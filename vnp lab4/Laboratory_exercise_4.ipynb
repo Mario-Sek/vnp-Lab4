{
 "cells": [
  {
   "cell_type": "markdown",
   "metadata": {
    "id": "t7JOxuK9Jje2"
   },
   "source": [
    "# Laboratory exercise 4\n",
    "\n",
    "## Warm-Up Mode (2 points)\n",
    "\n",
    "**Task Description**  \n",
    "Using the given dataset, develop and implement **3** different neural networks to predict the **air quality level**. Each network should differ in the following ways:  \n",
    "\n",
    "- **layer configurations** - use different numbers and types of layers;\n",
    "- **activation functions** - try different activation functions;\n",
    "- **neurons per layer** - experiment with different numbers of neurons in each layer; and\n",
    "- **number of layers** - build networks with varying depths.\n",
    "\n",
    "After developing the models, evaluate and compare the performance of all **3** approaches.\n",
    "\n",
    "**About the Dataset**  \n",
    "This dataset focuses on air quality assessment across various regions. The dataset contains 5,000 samples and captures critical environmental and demographic factors that influence pollution levels.\n",
    "\n",
    "**Features**:  \n",
    "- **Temperature (°C)**: Average temperature of the region.  \n",
    "- **Humidity (%)**: Relative humidity recorded in the region.  \n",
    "- **PM2.5 Concentration (µg/m³)**: Levels of fine particulate matter.  \n",
    "- **PM10 Concentration (µg/m³)**: Levels of coarse particulate matter.  \n",
    "- **NO2 Concentration (ppb)**: Nitrogen dioxide levels.  \n",
    "- **SO2 Concentration (ppb)**: Sulfur dioxide levels.  \n",
    "- **CO Concentration (ppm)**: Carbon monoxide levels.  \n",
    "- **Proximity to Industrial Areas (km)**: Distance to the nearest industrial zone.  \n",
    "- **Population Density (people/km²)**: Number of people per square kilometer in the region.  \n",
    "\n",
    "**Target Variable**: **Air Quality**  \n",
    "- **Good**: Clean air with low pollution levels.  \n",
    "- **Moderate**: Acceptable air quality but with some pollutants present.  \n",
    "- **Poor**: Noticeable pollution that may cause health issues for sensitive groups.  \n",
    "- **Hazardous**: Highly polluted air posing serious health risks to the population.  "
   ]
  },
  {
   "cell_type": "code",
   "execution_count": 2,
   "metadata": {},
   "outputs": [
    {
     "name": "stdout",
     "output_type": "stream",
     "text": [
      "Collecting keras\n",
      "  Downloading keras-3.7.0-py3-none-any.whl.metadata (5.8 kB)\n",
      "Collecting absl-py (from keras)\n",
      "  Downloading absl_py-2.1.0-py3-none-any.whl.metadata (2.3 kB)\n",
      "Requirement already satisfied: numpy in c:\\users\\writi\\appdata\\local\\programs\\python\\python312\\lib\\site-packages (from keras) (2.1.3)\n",
      "Collecting rich (from keras)\n",
      "  Downloading rich-13.9.4-py3-none-any.whl.metadata (18 kB)\n",
      "Collecting namex (from keras)\n",
      "  Downloading namex-0.0.8-py3-none-any.whl.metadata (246 bytes)\n",
      "Collecting h5py (from keras)\n",
      "  Downloading h5py-3.12.1-cp312-cp312-win_amd64.whl.metadata (2.5 kB)\n",
      "Collecting optree (from keras)\n",
      "  Downloading optree-0.13.1-cp312-cp312-win_amd64.whl.metadata (48 kB)\n",
      "Collecting ml-dtypes (from keras)\n",
      "  Downloading ml_dtypes-0.5.0-cp312-cp312-win_amd64.whl.metadata (22 kB)\n",
      "Requirement already satisfied: packaging in c:\\users\\writi\\appdata\\local\\programs\\python\\python312\\lib\\site-packages (from keras) (24.2)\n",
      "Collecting typing-extensions>=4.5.0 (from optree->keras)\n",
      "  Downloading typing_extensions-4.12.2-py3-none-any.whl.metadata (3.0 kB)\n",
      "Collecting markdown-it-py>=2.2.0 (from rich->keras)\n",
      "  Downloading markdown_it_py-3.0.0-py3-none-any.whl.metadata (6.9 kB)\n",
      "Requirement already satisfied: pygments<3.0.0,>=2.13.0 in c:\\users\\writi\\appdata\\local\\programs\\python\\python312\\lib\\site-packages (from rich->keras) (2.18.0)\n",
      "Collecting mdurl~=0.1 (from markdown-it-py>=2.2.0->rich->keras)\n",
      "  Downloading mdurl-0.1.2-py3-none-any.whl.metadata (1.6 kB)\n",
      "Downloading keras-3.7.0-py3-none-any.whl (1.2 MB)\n",
      "   ---------------------------------------- 0.0/1.2 MB ? eta -:--:--\n",
      "   ---------------------------------------- 1.2/1.2 MB 10.3 MB/s eta 0:00:00\n",
      "Downloading absl_py-2.1.0-py3-none-any.whl (133 kB)\n",
      "Downloading h5py-3.12.1-cp312-cp312-win_amd64.whl (3.0 MB)\n",
      "   ---------------------------------------- 0.0/3.0 MB ? eta -:--:--\n",
      "   ------------------------ --------------- 1.8/3.0 MB 10.1 MB/s eta 0:00:01\n",
      "   ---------------------------------------- 3.0/3.0 MB 8.0 MB/s eta 0:00:00\n",
      "Downloading ml_dtypes-0.5.0-cp312-cp312-win_amd64.whl (213 kB)\n",
      "Downloading namex-0.0.8-py3-none-any.whl (5.8 kB)\n",
      "Downloading optree-0.13.1-cp312-cp312-win_amd64.whl (292 kB)\n",
      "Downloading rich-13.9.4-py3-none-any.whl (242 kB)\n",
      "Downloading markdown_it_py-3.0.0-py3-none-any.whl (87 kB)\n",
      "Downloading typing_extensions-4.12.2-py3-none-any.whl (37 kB)\n",
      "Downloading mdurl-0.1.2-py3-none-any.whl (10.0 kB)\n",
      "Installing collected packages: namex, typing-extensions, ml-dtypes, mdurl, h5py, absl-py, optree, markdown-it-py, rich, keras\n",
      "Successfully installed absl-py-2.1.0 h5py-3.12.1 keras-3.7.0 markdown-it-py-3.0.0 mdurl-0.1.2 ml-dtypes-0.5.0 namex-0.0.8 optree-0.13.1 rich-13.9.4 typing-extensions-4.12.2\n",
      "Note: you may need to restart the kernel to use updated packages.\n"
     ]
    }
   ],
   "source": [
    "pip install keras"
   ]
  },
  {
   "cell_type": "code",
   "execution_count": 6,
   "metadata": {},
   "outputs": [
    {
     "name": "stdout",
     "output_type": "stream",
     "text": [
      "Collecting tensorflow\n",
      "  Downloading tensorflow-2.18.0-cp312-cp312-win_amd64.whl.metadata (3.3 kB)\n",
      "Collecting tensorflow-intel==2.18.0 (from tensorflow)\n",
      "  Downloading tensorflow_intel-2.18.0-cp312-cp312-win_amd64.whl.metadata (4.9 kB)\n",
      "Requirement already satisfied: absl-py>=1.0.0 in c:\\users\\writi\\appdata\\local\\programs\\python\\python312\\lib\\site-packages (from tensorflow-intel==2.18.0->tensorflow) (2.1.0)\n",
      "Collecting astunparse>=1.6.0 (from tensorflow-intel==2.18.0->tensorflow)\n",
      "  Downloading astunparse-1.6.3-py2.py3-none-any.whl.metadata (4.4 kB)\n",
      "Collecting flatbuffers>=24.3.25 (from tensorflow-intel==2.18.0->tensorflow)\n",
      "  Downloading flatbuffers-24.3.25-py2.py3-none-any.whl.metadata (850 bytes)\n",
      "Collecting gast!=0.5.0,!=0.5.1,!=0.5.2,>=0.2.1 (from tensorflow-intel==2.18.0->tensorflow)\n",
      "  Downloading gast-0.6.0-py3-none-any.whl.metadata (1.3 kB)\n",
      "Collecting google-pasta>=0.1.1 (from tensorflow-intel==2.18.0->tensorflow)\n",
      "  Downloading google_pasta-0.2.0-py3-none-any.whl.metadata (814 bytes)\n",
      "Collecting libclang>=13.0.0 (from tensorflow-intel==2.18.0->tensorflow)\n",
      "  Downloading libclang-18.1.1-py2.py3-none-win_amd64.whl.metadata (5.3 kB)\n",
      "Collecting opt-einsum>=2.3.2 (from tensorflow-intel==2.18.0->tensorflow)\n",
      "  Downloading opt_einsum-3.4.0-py3-none-any.whl.metadata (6.3 kB)\n",
      "Requirement already satisfied: packaging in c:\\users\\writi\\appdata\\local\\programs\\python\\python312\\lib\\site-packages (from tensorflow-intel==2.18.0->tensorflow) (24.2)\n",
      "Collecting protobuf!=4.21.0,!=4.21.1,!=4.21.2,!=4.21.3,!=4.21.4,!=4.21.5,<6.0.0dev,>=3.20.3 (from tensorflow-intel==2.18.0->tensorflow)\n",
      "  Downloading protobuf-5.29.1-cp310-abi3-win_amd64.whl.metadata (592 bytes)\n",
      "Requirement already satisfied: requests<3,>=2.21.0 in c:\\users\\writi\\appdata\\local\\programs\\python\\python312\\lib\\site-packages (from tensorflow-intel==2.18.0->tensorflow) (2.32.3)\n",
      "Requirement already satisfied: setuptools in c:\\users\\writi\\appdata\\local\\programs\\python\\python312\\lib\\site-packages (from tensorflow-intel==2.18.0->tensorflow) (75.3.0)\n",
      "Requirement already satisfied: six>=1.12.0 in c:\\users\\writi\\appdata\\local\\programs\\python\\python312\\lib\\site-packages (from tensorflow-intel==2.18.0->tensorflow) (1.16.0)\n",
      "Collecting termcolor>=1.1.0 (from tensorflow-intel==2.18.0->tensorflow)\n",
      "  Downloading termcolor-2.5.0-py3-none-any.whl.metadata (6.1 kB)\n",
      "Requirement already satisfied: typing-extensions>=3.6.6 in c:\\users\\writi\\appdata\\local\\programs\\python\\python312\\lib\\site-packages (from tensorflow-intel==2.18.0->tensorflow) (4.12.2)\n",
      "Collecting wrapt>=1.11.0 (from tensorflow-intel==2.18.0->tensorflow)\n",
      "  Downloading wrapt-1.17.0-cp312-cp312-win_amd64.whl.metadata (6.5 kB)\n",
      "Collecting grpcio<2.0,>=1.24.3 (from tensorflow-intel==2.18.0->tensorflow)\n",
      "  Downloading grpcio-1.68.1-cp312-cp312-win_amd64.whl.metadata (4.0 kB)\n",
      "Collecting tensorboard<2.19,>=2.18 (from tensorflow-intel==2.18.0->tensorflow)\n",
      "  Downloading tensorboard-2.18.0-py3-none-any.whl.metadata (1.6 kB)\n",
      "Requirement already satisfied: keras>=3.5.0 in c:\\users\\writi\\appdata\\local\\programs\\python\\python312\\lib\\site-packages (from tensorflow-intel==2.18.0->tensorflow) (3.7.0)\n",
      "Collecting numpy<2.1.0,>=1.26.0 (from tensorflow-intel==2.18.0->tensorflow)\n",
      "  Downloading numpy-2.0.2-cp312-cp312-win_amd64.whl.metadata (59 kB)\n",
      "Requirement already satisfied: h5py>=3.11.0 in c:\\users\\writi\\appdata\\local\\programs\\python\\python312\\lib\\site-packages (from tensorflow-intel==2.18.0->tensorflow) (3.12.1)\n",
      "Collecting ml-dtypes<0.5.0,>=0.4.0 (from tensorflow-intel==2.18.0->tensorflow)\n",
      "  Downloading ml_dtypes-0.4.1-cp312-cp312-win_amd64.whl.metadata (20 kB)\n",
      "Collecting wheel<1.0,>=0.23.0 (from astunparse>=1.6.0->tensorflow-intel==2.18.0->tensorflow)\n",
      "  Downloading wheel-0.45.1-py3-none-any.whl.metadata (2.3 kB)\n",
      "Requirement already satisfied: rich in c:\\users\\writi\\appdata\\local\\programs\\python\\python312\\lib\\site-packages (from keras>=3.5.0->tensorflow-intel==2.18.0->tensorflow) (13.9.4)\n",
      "Requirement already satisfied: namex in c:\\users\\writi\\appdata\\local\\programs\\python\\python312\\lib\\site-packages (from keras>=3.5.0->tensorflow-intel==2.18.0->tensorflow) (0.0.8)\n",
      "Requirement already satisfied: optree in c:\\users\\writi\\appdata\\local\\programs\\python\\python312\\lib\\site-packages (from keras>=3.5.0->tensorflow-intel==2.18.0->tensorflow) (0.13.1)\n",
      "Requirement already satisfied: charset-normalizer<4,>=2 in c:\\users\\writi\\appdata\\local\\programs\\python\\python312\\lib\\site-packages (from requests<3,>=2.21.0->tensorflow-intel==2.18.0->tensorflow) (3.4.0)\n",
      "Requirement already satisfied: idna<4,>=2.5 in c:\\users\\writi\\appdata\\local\\programs\\python\\python312\\lib\\site-packages (from requests<3,>=2.21.0->tensorflow-intel==2.18.0->tensorflow) (3.10)\n",
      "Requirement already satisfied: urllib3<3,>=1.21.1 in c:\\users\\writi\\appdata\\local\\programs\\python\\python312\\lib\\site-packages (from requests<3,>=2.21.0->tensorflow-intel==2.18.0->tensorflow) (2.2.3)\n",
      "Requirement already satisfied: certifi>=2017.4.17 in c:\\users\\writi\\appdata\\local\\programs\\python\\python312\\lib\\site-packages (from requests<3,>=2.21.0->tensorflow-intel==2.18.0->tensorflow) (2024.8.30)\n",
      "Collecting markdown>=2.6.8 (from tensorboard<2.19,>=2.18->tensorflow-intel==2.18.0->tensorflow)\n",
      "  Downloading Markdown-3.7-py3-none-any.whl.metadata (7.0 kB)\n",
      "Collecting tensorboard-data-server<0.8.0,>=0.7.0 (from tensorboard<2.19,>=2.18->tensorflow-intel==2.18.0->tensorflow)\n",
      "  Downloading tensorboard_data_server-0.7.2-py3-none-any.whl.metadata (1.1 kB)\n",
      "Collecting werkzeug>=1.0.1 (from tensorboard<2.19,>=2.18->tensorflow-intel==2.18.0->tensorflow)\n",
      "  Downloading werkzeug-3.1.3-py3-none-any.whl.metadata (3.7 kB)\n",
      "Requirement already satisfied: MarkupSafe>=2.1.1 in c:\\users\\writi\\appdata\\local\\programs\\python\\python312\\lib\\site-packages (from werkzeug>=1.0.1->tensorboard<2.19,>=2.18->tensorflow-intel==2.18.0->tensorflow) (3.0.2)\n",
      "Requirement already satisfied: markdown-it-py>=2.2.0 in c:\\users\\writi\\appdata\\local\\programs\\python\\python312\\lib\\site-packages (from rich->keras>=3.5.0->tensorflow-intel==2.18.0->tensorflow) (3.0.0)\n",
      "Requirement already satisfied: pygments<3.0.0,>=2.13.0 in c:\\users\\writi\\appdata\\local\\programs\\python\\python312\\lib\\site-packages (from rich->keras>=3.5.0->tensorflow-intel==2.18.0->tensorflow) (2.18.0)\n",
      "Requirement already satisfied: mdurl~=0.1 in c:\\users\\writi\\appdata\\local\\programs\\python\\python312\\lib\\site-packages (from markdown-it-py>=2.2.0->rich->keras>=3.5.0->tensorflow-intel==2.18.0->tensorflow) (0.1.2)\n",
      "Downloading tensorflow-2.18.0-cp312-cp312-win_amd64.whl (7.5 kB)\n",
      "Downloading tensorflow_intel-2.18.0-cp312-cp312-win_amd64.whl (390.3 MB)\n",
      "   ---------------------------------------- 0.0/390.3 MB ? eta -:--:--\n",
      "   ---------------------------------------- 2.4/390.3 MB 11.2 MB/s eta 0:00:35\n",
      "   ---------------------------------------- 3.7/390.3 MB 8.7 MB/s eta 0:00:45\n",
      "    --------------------------------------- 5.0/390.3 MB 8.4 MB/s eta 0:00:46\n",
      "    --------------------------------------- 6.6/390.3 MB 8.1 MB/s eta 0:00:48\n",
      "    --------------------------------------- 8.1/390.3 MB 8.0 MB/s eta 0:00:48\n",
      "    --------------------------------------- 9.4/390.3 MB 7.7 MB/s eta 0:00:50\n",
      "   - -------------------------------------- 10.7/390.3 MB 7.6 MB/s eta 0:00:50\n",
      "   - -------------------------------------- 12.3/390.3 MB 7.6 MB/s eta 0:00:50\n",
      "   - -------------------------------------- 13.9/390.3 MB 7.6 MB/s eta 0:00:50\n",
      "   - -------------------------------------- 15.5/390.3 MB 7.5 MB/s eta 0:00:51\n",
      "   - -------------------------------------- 16.8/390.3 MB 7.4 MB/s eta 0:00:51\n",
      "   - -------------------------------------- 18.1/390.3 MB 7.4 MB/s eta 0:00:51\n",
      "   -- ------------------------------------- 19.7/390.3 MB 7.4 MB/s eta 0:00:50\n",
      "   -- ------------------------------------- 21.2/390.3 MB 7.4 MB/s eta 0:00:51\n",
      "   -- ------------------------------------- 22.8/390.3 MB 7.4 MB/s eta 0:00:50\n",
      "   -- ------------------------------------- 24.1/390.3 MB 7.3 MB/s eta 0:00:50\n",
      "   -- ------------------------------------- 25.7/390.3 MB 7.3 MB/s eta 0:00:50\n",
      "   -- ------------------------------------- 27.3/390.3 MB 7.4 MB/s eta 0:00:50\n",
      "   -- ------------------------------------- 28.6/390.3 MB 7.3 MB/s eta 0:00:50\n",
      "   --- ------------------------------------ 29.9/390.3 MB 7.3 MB/s eta 0:00:50\n",
      "   --- ------------------------------------ 31.7/390.3 MB 7.3 MB/s eta 0:00:49\n",
      "   --- ------------------------------------ 33.0/390.3 MB 7.3 MB/s eta 0:00:49\n",
      "   --- ------------------------------------ 34.6/390.3 MB 7.3 MB/s eta 0:00:49\n",
      "   --- ------------------------------------ 36.2/390.3 MB 7.3 MB/s eta 0:00:49\n",
      "   --- ------------------------------------ 37.5/390.3 MB 7.3 MB/s eta 0:00:49\n",
      "   ---- ----------------------------------- 39.1/390.3 MB 7.3 MB/s eta 0:00:49\n",
      "   ---- ----------------------------------- 40.6/390.3 MB 7.3 MB/s eta 0:00:49\n",
      "   ---- ----------------------------------- 42.2/390.3 MB 7.3 MB/s eta 0:00:48\n",
      "   ---- ----------------------------------- 43.8/390.3 MB 7.3 MB/s eta 0:00:48\n",
      "   ---- ----------------------------------- 45.1/390.3 MB 7.3 MB/s eta 0:00:48\n",
      "   ---- ----------------------------------- 46.7/390.3 MB 7.3 MB/s eta 0:00:48\n",
      "   ---- ----------------------------------- 48.2/390.3 MB 7.2 MB/s eta 0:00:48\n",
      "   ----- ---------------------------------- 49.5/390.3 MB 7.3 MB/s eta 0:00:47\n",
      "   ----- ---------------------------------- 51.1/390.3 MB 7.2 MB/s eta 0:00:47\n",
      "   ----- ---------------------------------- 52.7/390.3 MB 7.2 MB/s eta 0:00:47\n",
      "   ----- ---------------------------------- 54.3/390.3 MB 7.2 MB/s eta 0:00:47\n",
      "   ----- ---------------------------------- 55.8/390.3 MB 7.2 MB/s eta 0:00:47\n",
      "   ----- ---------------------------------- 57.4/390.3 MB 7.2 MB/s eta 0:00:47\n",
      "   ------ --------------------------------- 58.7/390.3 MB 7.2 MB/s eta 0:00:46\n",
      "   ------ --------------------------------- 60.6/390.3 MB 7.2 MB/s eta 0:00:46\n",
      "   ------ --------------------------------- 62.1/390.3 MB 7.2 MB/s eta 0:00:46\n",
      "   ------ --------------------------------- 63.4/390.3 MB 7.2 MB/s eta 0:00:46\n",
      "   ------ --------------------------------- 64.7/390.3 MB 7.2 MB/s eta 0:00:46\n",
      "   ------ --------------------------------- 66.3/390.3 MB 7.2 MB/s eta 0:00:45\n",
      "   ------ --------------------------------- 67.9/390.3 MB 7.2 MB/s eta 0:00:45\n",
      "   ------- -------------------------------- 69.5/390.3 MB 7.2 MB/s eta 0:00:45\n",
      "   ------- -------------------------------- 71.0/390.3 MB 7.2 MB/s eta 0:00:45\n",
      "   ------- -------------------------------- 72.4/390.3 MB 7.2 MB/s eta 0:00:45\n",
      "   ------- -------------------------------- 73.9/390.3 MB 7.2 MB/s eta 0:00:44\n",
      "   ------- -------------------------------- 75.5/390.3 MB 7.2 MB/s eta 0:00:44\n",
      "   ------- -------------------------------- 76.8/390.3 MB 7.2 MB/s eta 0:00:44\n",
      "   -------- ------------------------------- 78.1/390.3 MB 7.2 MB/s eta 0:00:44\n",
      "   -------- ------------------------------- 80.0/390.3 MB 7.2 MB/s eta 0:00:44\n",
      "   -------- ------------------------------- 81.5/390.3 MB 7.2 MB/s eta 0:00:43\n",
      "   -------- ------------------------------- 82.8/390.3 MB 7.2 MB/s eta 0:00:43\n",
      "   -------- ------------------------------- 84.1/390.3 MB 7.2 MB/s eta 0:00:43\n",
      "   -------- ------------------------------- 85.7/390.3 MB 7.2 MB/s eta 0:00:43\n",
      "   -------- ------------------------------- 87.3/390.3 MB 7.2 MB/s eta 0:00:43\n",
      "   --------- ------------------------------ 88.9/390.3 MB 7.2 MB/s eta 0:00:42\n",
      "   --------- ------------------------------ 90.4/390.3 MB 7.2 MB/s eta 0:00:42\n",
      "   --------- ------------------------------ 92.0/390.3 MB 7.2 MB/s eta 0:00:42\n",
      "   --------- ------------------------------ 93.6/390.3 MB 7.2 MB/s eta 0:00:42\n",
      "   --------- ------------------------------ 95.2/390.3 MB 7.2 MB/s eta 0:00:42\n",
      "   --------- ------------------------------ 96.5/390.3 MB 7.2 MB/s eta 0:00:41\n",
      "   ---------- ----------------------------- 98.0/390.3 MB 7.2 MB/s eta 0:00:41\n",
      "   ---------- ----------------------------- 99.6/390.3 MB 7.2 MB/s eta 0:00:41\n",
      "   ---------- ----------------------------- 101.2/390.3 MB 7.2 MB/s eta 0:00:41\n",
      "   ---------- ----------------------------- 102.5/390.3 MB 7.2 MB/s eta 0:00:41\n",
      "   ---------- ----------------------------- 104.1/390.3 MB 7.2 MB/s eta 0:00:40\n",
      "   ---------- ----------------------------- 105.6/390.3 MB 7.2 MB/s eta 0:00:40\n",
      "   ---------- ----------------------------- 107.2/390.3 MB 7.2 MB/s eta 0:00:40\n",
      "   ----------- ---------------------------- 108.8/390.3 MB 7.2 MB/s eta 0:00:40\n",
      "   ----------- ---------------------------- 110.1/390.3 MB 7.2 MB/s eta 0:00:40\n",
      "   ----------- ---------------------------- 111.7/390.3 MB 7.2 MB/s eta 0:00:39\n",
      "   ----------- ---------------------------- 113.0/390.3 MB 7.2 MB/s eta 0:00:39\n",
      "   ----------- ---------------------------- 114.6/390.3 MB 7.2 MB/s eta 0:00:39\n",
      "   ----------- ---------------------------- 116.4/390.3 MB 7.2 MB/s eta 0:00:39\n",
      "   ------------ --------------------------- 117.7/390.3 MB 7.2 MB/s eta 0:00:38\n",
      "   ------------ --------------------------- 119.3/390.3 MB 7.2 MB/s eta 0:00:38\n",
      "   ------------ --------------------------- 120.8/390.3 MB 7.2 MB/s eta 0:00:38\n",
      "   ------------ --------------------------- 122.4/390.3 MB 7.2 MB/s eta 0:00:38\n",
      "   ------------ --------------------------- 123.7/390.3 MB 7.2 MB/s eta 0:00:38\n",
      "   ------------ --------------------------- 125.3/390.3 MB 7.2 MB/s eta 0:00:37\n",
      "   ------------- -------------------------- 126.9/390.3 MB 7.2 MB/s eta 0:00:37\n",
      "   ------------- -------------------------- 128.5/390.3 MB 7.2 MB/s eta 0:00:37\n",
      "   ------------- -------------------------- 129.8/390.3 MB 7.2 MB/s eta 0:00:37\n",
      "   ------------- -------------------------- 131.3/390.3 MB 7.2 MB/s eta 0:00:37\n",
      "   ------------- -------------------------- 132.9/390.3 MB 7.2 MB/s eta 0:00:36\n",
      "   ------------- -------------------------- 134.2/390.3 MB 7.2 MB/s eta 0:00:36\n",
      "   ------------- -------------------------- 135.8/390.3 MB 7.2 MB/s eta 0:00:36\n",
      "   -------------- ------------------------- 137.4/390.3 MB 7.2 MB/s eta 0:00:36\n",
      "   -------------- ------------------------- 138.9/390.3 MB 7.2 MB/s eta 0:00:36\n",
      "   -------------- ------------------------- 140.5/390.3 MB 7.2 MB/s eta 0:00:35\n",
      "   -------------- ------------------------- 141.8/390.3 MB 7.2 MB/s eta 0:00:35\n",
      "   -------------- ------------------------- 143.4/390.3 MB 7.2 MB/s eta 0:00:35\n",
      "   -------------- ------------------------- 145.0/390.3 MB 7.2 MB/s eta 0:00:35\n",
      "   --------------- ------------------------ 146.5/390.3 MB 7.2 MB/s eta 0:00:34\n",
      "   --------------- ------------------------ 148.1/390.3 MB 7.2 MB/s eta 0:00:34\n",
      "   --------------- ------------------------ 149.4/390.3 MB 7.2 MB/s eta 0:00:34\n",
      "   --------------- ------------------------ 150.7/390.3 MB 7.2 MB/s eta 0:00:34\n",
      "   --------------- ------------------------ 152.3/390.3 MB 7.2 MB/s eta 0:00:34\n",
      "   --------------- ------------------------ 153.9/390.3 MB 7.2 MB/s eta 0:00:33\n",
      "   --------------- ------------------------ 155.5/390.3 MB 7.2 MB/s eta 0:00:33\n",
      "   ---------------- ----------------------- 157.0/390.3 MB 7.2 MB/s eta 0:00:33\n",
      "   ---------------- ----------------------- 158.6/390.3 MB 7.2 MB/s eta 0:00:33\n",
      "   ---------------- ----------------------- 159.9/390.3 MB 7.2 MB/s eta 0:00:33\n",
      "   ---------------- ----------------------- 161.5/390.3 MB 7.2 MB/s eta 0:00:32\n",
      "   ---------------- ----------------------- 163.3/390.3 MB 7.2 MB/s eta 0:00:32\n",
      "   ---------------- ----------------------- 164.9/390.3 MB 7.2 MB/s eta 0:00:32\n",
      "   ----------------- ---------------------- 166.2/390.3 MB 7.2 MB/s eta 0:00:32\n",
      "   ----------------- ---------------------- 167.8/390.3 MB 7.2 MB/s eta 0:00:32\n",
      "   ----------------- ---------------------- 169.1/390.3 MB 7.2 MB/s eta 0:00:31\n",
      "   ----------------- ---------------------- 170.7/390.3 MB 7.2 MB/s eta 0:00:31\n",
      "   ----------------- ---------------------- 172.2/390.3 MB 7.2 MB/s eta 0:00:31\n",
      "   ----------------- ---------------------- 173.5/390.3 MB 7.2 MB/s eta 0:00:31\n",
      "   ----------------- ---------------------- 175.1/390.3 MB 7.2 MB/s eta 0:00:31\n",
      "   ------------------ --------------------- 176.4/390.3 MB 7.2 MB/s eta 0:00:30\n",
      "   ------------------ --------------------- 178.3/390.3 MB 7.2 MB/s eta 0:00:30\n",
      "   ------------------ --------------------- 179.6/390.3 MB 7.2 MB/s eta 0:00:30\n",
      "   ------------------ --------------------- 181.1/390.3 MB 7.2 MB/s eta 0:00:30\n",
      "   ------------------ --------------------- 182.5/390.3 MB 7.2 MB/s eta 0:00:30\n",
      "   ------------------ --------------------- 184.0/390.3 MB 7.2 MB/s eta 0:00:29\n",
      "   ------------------- -------------------- 185.6/390.3 MB 7.2 MB/s eta 0:00:29\n",
      "   ------------------- -------------------- 186.9/390.3 MB 7.2 MB/s eta 0:00:29\n",
      "   ------------------- -------------------- 188.5/390.3 MB 7.2 MB/s eta 0:00:29\n",
      "   ------------------- -------------------- 189.8/390.3 MB 7.2 MB/s eta 0:00:29\n",
      "   ------------------- -------------------- 191.4/390.3 MB 7.2 MB/s eta 0:00:28\n",
      "   ------------------- -------------------- 192.9/390.3 MB 7.2 MB/s eta 0:00:28\n",
      "   ------------------- -------------------- 194.2/390.3 MB 7.2 MB/s eta 0:00:28\n",
      "   -------------------- ------------------- 195.6/390.3 MB 7.2 MB/s eta 0:00:28\n",
      "   -------------------- ------------------- 197.1/390.3 MB 7.2 MB/s eta 0:00:27\n",
      "   -------------------- ------------------- 198.7/390.3 MB 7.2 MB/s eta 0:00:27\n",
      "   -------------------- ------------------- 200.0/390.3 MB 7.2 MB/s eta 0:00:27\n",
      "   -------------------- ------------------- 201.6/390.3 MB 7.2 MB/s eta 0:00:27\n",
      "   -------------------- ------------------- 203.2/390.3 MB 7.2 MB/s eta 0:00:27\n",
      "   -------------------- ------------------- 204.5/390.3 MB 7.2 MB/s eta 0:00:26\n",
      "   --------------------- ------------------ 206.0/390.3 MB 7.2 MB/s eta 0:00:26\n",
      "   --------------------- ------------------ 207.4/390.3 MB 7.2 MB/s eta 0:00:26\n",
      "   --------------------- ------------------ 208.7/390.3 MB 7.1 MB/s eta 0:00:26\n",
      "   --------------------- ------------------ 210.2/390.3 MB 7.1 MB/s eta 0:00:26\n",
      "   --------------------- ------------------ 212.1/390.3 MB 7.2 MB/s eta 0:00:25\n",
      "   --------------------- ------------------ 213.4/390.3 MB 7.2 MB/s eta 0:00:25\n",
      "   ---------------------- ----------------- 214.7/390.3 MB 7.2 MB/s eta 0:00:25\n",
      "   ---------------------- ----------------- 216.3/390.3 MB 7.1 MB/s eta 0:00:25\n",
      "   ---------------------- ----------------- 217.6/390.3 MB 7.1 MB/s eta 0:00:25\n",
      "   ---------------------- ----------------- 218.9/390.3 MB 7.1 MB/s eta 0:00:25\n",
      "   ---------------------- ----------------- 220.7/390.3 MB 7.1 MB/s eta 0:00:24\n",
      "   ---------------------- ----------------- 222.3/390.3 MB 7.1 MB/s eta 0:00:24\n",
      "   ---------------------- ----------------- 223.9/390.3 MB 7.1 MB/s eta 0:00:24\n",
      "   ----------------------- ---------------- 225.2/390.3 MB 7.1 MB/s eta 0:00:24\n",
      "   ----------------------- ---------------- 226.8/390.3 MB 7.1 MB/s eta 0:00:23\n",
      "   ----------------------- ---------------- 228.3/390.3 MB 7.1 MB/s eta 0:00:23\n",
      "   ----------------------- ---------------- 229.9/390.3 MB 7.1 MB/s eta 0:00:23\n",
      "   ----------------------- ---------------- 231.2/390.3 MB 7.1 MB/s eta 0:00:23\n",
      "   ----------------------- ---------------- 232.8/390.3 MB 7.1 MB/s eta 0:00:23\n",
      "   ------------------------ --------------- 234.4/390.3 MB 7.1 MB/s eta 0:00:22\n",
      "   ------------------------ --------------- 235.7/390.3 MB 7.1 MB/s eta 0:00:22\n",
      "   ------------------------ --------------- 237.2/390.3 MB 7.1 MB/s eta 0:00:22\n",
      "   ------------------------ --------------- 238.8/390.3 MB 7.1 MB/s eta 0:00:22\n",
      "   ------------------------ --------------- 240.1/390.3 MB 7.1 MB/s eta 0:00:22\n",
      "   ------------------------ --------------- 241.7/390.3 MB 7.1 MB/s eta 0:00:21\n",
      "   ------------------------ --------------- 243.3/390.3 MB 7.1 MB/s eta 0:00:21\n",
      "   ------------------------- -------------- 244.6/390.3 MB 7.1 MB/s eta 0:00:21\n",
      "   ------------------------- -------------- 246.4/390.3 MB 7.1 MB/s eta 0:00:21\n",
      "   ------------------------- -------------- 247.7/390.3 MB 7.1 MB/s eta 0:00:20\n",
      "   ------------------------- -------------- 249.0/390.3 MB 7.1 MB/s eta 0:00:20\n",
      "   ------------------------- -------------- 250.6/390.3 MB 7.1 MB/s eta 0:00:20\n",
      "   ------------------------- -------------- 252.2/390.3 MB 7.1 MB/s eta 0:00:20\n",
      "   -------------------------- ------------- 253.8/390.3 MB 7.1 MB/s eta 0:00:20\n",
      "   -------------------------- ------------- 255.3/390.3 MB 7.1 MB/s eta 0:00:19\n",
      "   -------------------------- ------------- 256.6/390.3 MB 7.1 MB/s eta 0:00:19\n",
      "   -------------------------- ------------- 258.2/390.3 MB 7.1 MB/s eta 0:00:19\n",
      "   -------------------------- ------------- 259.8/390.3 MB 7.1 MB/s eta 0:00:19\n",
      "   -------------------------- ------------- 261.4/390.3 MB 7.1 MB/s eta 0:00:19\n",
      "   -------------------------- ------------- 262.7/390.3 MB 7.1 MB/s eta 0:00:18\n",
      "   --------------------------- ------------ 264.2/390.3 MB 7.1 MB/s eta 0:00:18\n",
      "   --------------------------- ------------ 265.8/390.3 MB 7.1 MB/s eta 0:00:18\n",
      "   --------------------------- ------------ 267.4/390.3 MB 7.1 MB/s eta 0:00:18\n",
      "   --------------------------- ------------ 268.7/390.3 MB 7.1 MB/s eta 0:00:18\n",
      "   --------------------------- ------------ 270.3/390.3 MB 7.1 MB/s eta 0:00:17\n",
      "   --------------------------- ------------ 271.6/390.3 MB 7.1 MB/s eta 0:00:17\n",
      "   --------------------------- ------------ 273.2/390.3 MB 7.1 MB/s eta 0:00:17\n",
      "   ---------------------------- ----------- 274.7/390.3 MB 7.1 MB/s eta 0:00:17\n",
      "   ---------------------------- ----------- 276.3/390.3 MB 7.1 MB/s eta 0:00:16\n",
      "   ---------------------------- ----------- 277.6/390.3 MB 7.1 MB/s eta 0:00:16\n",
      "   ---------------------------- ----------- 279.2/390.3 MB 7.1 MB/s eta 0:00:16\n",
      "   ---------------------------- ----------- 280.8/390.3 MB 7.1 MB/s eta 0:00:16\n",
      "   ---------------------------- ----------- 282.1/390.3 MB 7.1 MB/s eta 0:00:16\n",
      "   ----------------------------- ---------- 283.6/390.3 MB 7.1 MB/s eta 0:00:15\n",
      "   ----------------------------- ---------- 285.0/390.3 MB 7.1 MB/s eta 0:00:15\n",
      "   ----------------------------- ---------- 286.5/390.3 MB 7.1 MB/s eta 0:00:15\n",
      "   ----------------------------- ---------- 288.4/390.3 MB 7.1 MB/s eta 0:00:15\n",
      "   ----------------------------- ---------- 289.7/390.3 MB 7.1 MB/s eta 0:00:15\n",
      "   ----------------------------- ---------- 291.2/390.3 MB 7.1 MB/s eta 0:00:14\n",
      "   ----------------------------- ---------- 292.6/390.3 MB 7.1 MB/s eta 0:00:14\n",
      "   ------------------------------ --------- 294.1/390.3 MB 7.1 MB/s eta 0:00:14\n",
      "   ------------------------------ --------- 295.7/390.3 MB 7.1 MB/s eta 0:00:14\n",
      "   ------------------------------ --------- 297.3/390.3 MB 7.1 MB/s eta 0:00:14\n",
      "   ------------------------------ --------- 298.6/390.3 MB 7.1 MB/s eta 0:00:13\n",
      "   ------------------------------ --------- 300.2/390.3 MB 7.1 MB/s eta 0:00:13\n",
      "   ------------------------------ --------- 301.7/390.3 MB 7.1 MB/s eta 0:00:13\n",
      "   ------------------------------- -------- 303.3/390.3 MB 7.1 MB/s eta 0:00:13\n",
      "   ------------------------------- -------- 304.6/390.3 MB 7.1 MB/s eta 0:00:13\n",
      "   ------------------------------- -------- 306.2/390.3 MB 7.1 MB/s eta 0:00:12\n",
      "   ------------------------------- -------- 307.8/390.3 MB 7.1 MB/s eta 0:00:12\n",
      "   ------------------------------- -------- 309.3/390.3 MB 7.1 MB/s eta 0:00:12\n",
      "   ------------------------------- -------- 310.6/390.3 MB 7.1 MB/s eta 0:00:12\n",
      "   -------------------------------- ------- 312.2/390.3 MB 7.1 MB/s eta 0:00:11\n",
      "   -------------------------------- ------- 313.8/390.3 MB 7.1 MB/s eta 0:00:11\n",
      "   -------------------------------- ------- 315.1/390.3 MB 7.1 MB/s eta 0:00:11\n",
      "   -------------------------------- ------- 316.7/390.3 MB 7.1 MB/s eta 0:00:11\n",
      "   -------------------------------- ------- 318.2/390.3 MB 7.1 MB/s eta 0:00:11\n",
      "   -------------------------------- ------- 319.8/390.3 MB 7.1 MB/s eta 0:00:10\n",
      "   -------------------------------- ------- 321.4/390.3 MB 7.1 MB/s eta 0:00:10\n",
      "   --------------------------------- ------ 323.0/390.3 MB 7.1 MB/s eta 0:00:10\n",
      "   --------------------------------- ------ 324.5/390.3 MB 7.1 MB/s eta 0:00:10\n",
      "   --------------------------------- ------ 326.1/390.3 MB 7.1 MB/s eta 0:00:09\n",
      "   --------------------------------- ------ 327.7/390.3 MB 7.1 MB/s eta 0:00:09\n",
      "   --------------------------------- ------ 329.0/390.3 MB 7.1 MB/s eta 0:00:09\n",
      "   --------------------------------- ------ 330.6/390.3 MB 7.1 MB/s eta 0:00:09\n",
      "   ---------------------------------- ----- 332.1/390.3 MB 7.1 MB/s eta 0:00:09\n",
      "   ---------------------------------- ----- 333.4/390.3 MB 7.1 MB/s eta 0:00:08\n",
      "   ---------------------------------- ----- 335.0/390.3 MB 7.1 MB/s eta 0:00:08\n",
      "   ---------------------------------- ----- 336.6/390.3 MB 7.1 MB/s eta 0:00:08\n",
      "   ---------------------------------- ----- 337.9/390.3 MB 7.1 MB/s eta 0:00:08\n",
      "   ---------------------------------- ----- 339.5/390.3 MB 7.1 MB/s eta 0:00:08\n",
      "   ---------------------------------- ----- 341.0/390.3 MB 7.1 MB/s eta 0:00:07\n",
      "   ----------------------------------- ---- 342.4/390.3 MB 7.1 MB/s eta 0:00:07\n",
      "   ----------------------------------- ---- 343.9/390.3 MB 7.1 MB/s eta 0:00:07\n",
      "   ----------------------------------- ---- 345.5/390.3 MB 7.1 MB/s eta 0:00:07\n",
      "   ----------------------------------- ---- 347.1/390.3 MB 7.1 MB/s eta 0:00:07\n",
      "   ----------------------------------- ---- 348.7/390.3 MB 7.1 MB/s eta 0:00:06\n",
      "   ----------------------------------- ---- 350.2/390.3 MB 7.1 MB/s eta 0:00:06\n",
      "   ------------------------------------ --- 351.5/390.3 MB 7.1 MB/s eta 0:00:06\n",
      "   ------------------------------------ --- 353.1/390.3 MB 7.1 MB/s eta 0:00:06\n",
      "   ------------------------------------ --- 354.7/390.3 MB 7.1 MB/s eta 0:00:05\n",
      "   ------------------------------------ --- 356.3/390.3 MB 7.1 MB/s eta 0:00:05\n",
      "   ------------------------------------ --- 357.8/390.3 MB 7.1 MB/s eta 0:00:05\n",
      "   ------------------------------------ --- 359.1/390.3 MB 7.1 MB/s eta 0:00:05\n",
      "   ------------------------------------ --- 360.7/390.3 MB 7.1 MB/s eta 0:00:05\n",
      "   ------------------------------------- -- 362.0/390.3 MB 7.1 MB/s eta 0:00:04\n",
      "   ------------------------------------- -- 363.6/390.3 MB 7.1 MB/s eta 0:00:04\n",
      "   ------------------------------------- -- 364.9/390.3 MB 7.1 MB/s eta 0:00:04\n",
      "   ------------------------------------- -- 366.5/390.3 MB 7.1 MB/s eta 0:00:04\n",
      "   ------------------------------------- -- 368.1/390.3 MB 7.1 MB/s eta 0:00:04\n",
      "   ------------------------------------- -- 369.6/390.3 MB 7.1 MB/s eta 0:00:03\n",
      "   -------------------------------------- - 371.2/390.3 MB 7.1 MB/s eta 0:00:03\n",
      "   -------------------------------------- - 372.8/390.3 MB 7.1 MB/s eta 0:00:03\n",
      "   -------------------------------------- - 374.1/390.3 MB 7.1 MB/s eta 0:00:03\n",
      "   -------------------------------------- - 375.7/390.3 MB 7.1 MB/s eta 0:00:03\n",
      "   -------------------------------------- - 377.2/390.3 MB 7.1 MB/s eta 0:00:02\n",
      "   -------------------------------------- - 378.5/390.3 MB 7.1 MB/s eta 0:00:02\n",
      "   -------------------------------------- - 380.1/390.3 MB 7.1 MB/s eta 0:00:02\n",
      "   ---------------------------------------  381.4/390.3 MB 7.1 MB/s eta 0:00:02\n",
      "   ---------------------------------------  383.0/390.3 MB 7.1 MB/s eta 0:00:02\n",
      "   ---------------------------------------  384.6/390.3 MB 7.1 MB/s eta 0:00:01\n",
      "   ---------------------------------------  386.1/390.3 MB 7.1 MB/s eta 0:00:01\n",
      "   ---------------------------------------  387.4/390.3 MB 7.1 MB/s eta 0:00:01\n",
      "   ---------------------------------------  389.0/390.3 MB 7.1 MB/s eta 0:00:01\n",
      "   ---------------------------------------  390.1/390.3 MB 7.1 MB/s eta 0:00:01\n",
      "   ---------------------------------------  390.1/390.3 MB 7.1 MB/s eta 0:00:01\n",
      "   ---------------------------------------  390.1/390.3 MB 7.1 MB/s eta 0:00:01\n",
      "   ---------------------------------------  390.1/390.3 MB 7.1 MB/s eta 0:00:01\n",
      "   ---------------------------------------  390.1/390.3 MB 7.1 MB/s eta 0:00:01\n",
      "   ---------------------------------------  390.1/390.3 MB 7.1 MB/s eta 0:00:01\n",
      "   ---------------------------------------  390.1/390.3 MB 7.1 MB/s eta 0:00:01\n",
      "   ---------------------------------------- 390.3/390.3 MB 6.8 MB/s eta 0:00:00\n",
      "Downloading astunparse-1.6.3-py2.py3-none-any.whl (12 kB)\n",
      "Downloading flatbuffers-24.3.25-py2.py3-none-any.whl (26 kB)\n",
      "Downloading gast-0.6.0-py3-none-any.whl (21 kB)\n",
      "Downloading google_pasta-0.2.0-py3-none-any.whl (57 kB)\n",
      "Downloading grpcio-1.68.1-cp312-cp312-win_amd64.whl (4.4 MB)\n",
      "   ---------------------------------------- 0.0/4.4 MB ? eta -:--:--\n",
      "   ------------------- -------------------- 2.1/4.4 MB 10.7 MB/s eta 0:00:01\n",
      "   --------------------------------- ------ 3.7/4.4 MB 9.1 MB/s eta 0:00:01\n",
      "   ---------------------------------------- 4.4/4.4 MB 8.5 MB/s eta 0:00:00\n",
      "Downloading libclang-18.1.1-py2.py3-none-win_amd64.whl (26.4 MB)\n",
      "   ---------------------------------------- 0.0/26.4 MB ? eta -:--:--\n",
      "   -- ------------------------------------- 1.6/26.4 MB 7.6 MB/s eta 0:00:04\n",
      "   ---- ----------------------------------- 3.1/26.4 MB 7.4 MB/s eta 0:00:04\n",
      "   ------ --------------------------------- 4.5/26.4 MB 7.3 MB/s eta 0:00:04\n",
      "   --------- ------------------------------ 6.0/26.4 MB 7.2 MB/s eta 0:00:03\n",
      "   ----------- ---------------------------- 7.3/26.4 MB 7.2 MB/s eta 0:00:03\n",
      "   ------------- -------------------------- 8.9/26.4 MB 7.2 MB/s eta 0:00:03\n",
      "   --------------- ------------------------ 10.5/26.4 MB 7.2 MB/s eta 0:00:03\n",
      "   ------------------ --------------------- 12.1/26.4 MB 7.2 MB/s eta 0:00:02\n",
      "   -------------------- ------------------- 13.6/26.4 MB 7.2 MB/s eta 0:00:02\n",
      "   ---------------------- ----------------- 14.9/26.4 MB 7.1 MB/s eta 0:00:02\n",
      "   ------------------------- -------------- 16.5/26.4 MB 7.2 MB/s eta 0:00:02\n",
      "   --------------------------- ------------ 18.1/26.4 MB 7.2 MB/s eta 0:00:02\n",
      "   ----------------------------- ---------- 19.4/26.4 MB 7.1 MB/s eta 0:00:01\n",
      "   ------------------------------- -------- 20.7/26.4 MB 7.1 MB/s eta 0:00:01\n",
      "   --------------------------------- ------ 22.3/26.4 MB 7.2 MB/s eta 0:00:01\n",
      "   ------------------------------------ --- 23.9/26.4 MB 7.2 MB/s eta 0:00:01\n",
      "   -------------------------------------- - 25.4/26.4 MB 7.2 MB/s eta 0:00:01\n",
      "   ---------------------------------------  26.2/26.4 MB 7.1 MB/s eta 0:00:01\n",
      "   ---------------------------------------- 26.4/26.4 MB 7.0 MB/s eta 0:00:00\n",
      "Downloading ml_dtypes-0.4.1-cp312-cp312-win_amd64.whl (127 kB)\n",
      "Downloading numpy-2.0.2-cp312-cp312-win_amd64.whl (15.6 MB)\n",
      "   ---------------------------------------- 0.0/15.6 MB ? eta -:--:--\n",
      "   ---- ----------------------------------- 1.8/15.6 MB 10.1 MB/s eta 0:00:02\n",
      "   --------- ------------------------------ 3.7/15.6 MB 9.5 MB/s eta 0:00:02\n",
      "   ------------- -------------------------- 5.2/15.6 MB 8.9 MB/s eta 0:00:02\n",
      "   ----------------- ---------------------- 6.8/15.6 MB 8.2 MB/s eta 0:00:02\n",
      "   -------------------- ------------------- 8.1/15.6 MB 8.0 MB/s eta 0:00:01\n",
      "   ------------------------ --------------- 9.7/15.6 MB 7.7 MB/s eta 0:00:01\n",
      "   ---------------------------- ----------- 11.3/15.6 MB 7.7 MB/s eta 0:00:01\n",
      "   -------------------------------- ------- 12.8/15.6 MB 7.7 MB/s eta 0:00:01\n",
      "   ------------------------------------ --- 14.2/15.6 MB 7.6 MB/s eta 0:00:01\n",
      "   ---------------------------------------  15.5/15.6 MB 7.5 MB/s eta 0:00:01\n",
      "   ---------------------------------------- 15.6/15.6 MB 6.9 MB/s eta 0:00:00\n",
      "Downloading opt_einsum-3.4.0-py3-none-any.whl (71 kB)\n",
      "Downloading protobuf-5.29.1-cp310-abi3-win_amd64.whl (434 kB)\n",
      "Downloading tensorboard-2.18.0-py3-none-any.whl (5.5 MB)\n",
      "   ---------------------------------------- 0.0/5.5 MB ? eta -:--:--\n",
      "   --------------- ------------------------ 2.1/5.5 MB 11.8 MB/s eta 0:00:01\n",
      "   -------------------------- ------------- 3.7/5.5 MB 9.1 MB/s eta 0:00:01\n",
      "   -------------------------------------- - 5.2/5.5 MB 8.4 MB/s eta 0:00:01\n",
      "   ---------------------------------------- 5.5/5.5 MB 8.0 MB/s eta 0:00:00\n",
      "Downloading termcolor-2.5.0-py3-none-any.whl (7.8 kB)\n",
      "Downloading wrapt-1.17.0-cp312-cp312-win_amd64.whl (38 kB)\n",
      "Downloading Markdown-3.7-py3-none-any.whl (106 kB)\n",
      "Downloading tensorboard_data_server-0.7.2-py3-none-any.whl (2.4 kB)\n",
      "Downloading werkzeug-3.1.3-py3-none-any.whl (224 kB)\n",
      "Downloading wheel-0.45.1-py3-none-any.whl (72 kB)\n",
      "Installing collected packages: libclang, flatbuffers, wrapt, wheel, werkzeug, termcolor, tensorboard-data-server, protobuf, opt-einsum, numpy, markdown, grpcio, google-pasta, gast, tensorboard, ml-dtypes, astunparse, tensorflow-intel, tensorflow\n",
      "  Attempting uninstall: numpy\n",
      "    Found existing installation: numpy 2.1.3\n",
      "    Uninstalling numpy-2.1.3:\n",
      "      Successfully uninstalled numpy-2.1.3\n",
      "  Attempting uninstall: ml-dtypes\n",
      "    Found existing installation: ml_dtypes 0.5.0\n",
      "    Uninstalling ml_dtypes-0.5.0:\n",
      "      Successfully uninstalled ml_dtypes-0.5.0\n",
      "Successfully installed astunparse-1.6.3 flatbuffers-24.3.25 gast-0.6.0 google-pasta-0.2.0 grpcio-1.68.1 libclang-18.1.1 markdown-3.7 ml-dtypes-0.4.1 numpy-2.0.2 opt-einsum-3.4.0 protobuf-5.29.1 tensorboard-2.18.0 tensorboard-data-server-0.7.2 tensorflow-2.18.0 tensorflow-intel-2.18.0 termcolor-2.5.0 werkzeug-3.1.3 wheel-0.45.1 wrapt-1.17.0\n",
      "Note: you may need to restart the kernel to use updated packages.\n"
     ]
    },
    {
     "name": "stderr",
     "output_type": "stream",
     "text": [
      "  WARNING: Failed to remove contents in a temporary directory 'C:\\Users\\writi\\AppData\\Local\\Programs\\Python\\Python312\\Lib\\site-packages\\~umpy.libs'.\n",
      "  You can safely remove it manually.\n",
      "  WARNING: Failed to remove contents in a temporary directory 'C:\\Users\\writi\\AppData\\Local\\Programs\\Python\\Python312\\Lib\\site-packages\\~umpy'.\n",
      "  You can safely remove it manually.\n"
     ]
    }
   ],
   "source": [
    "pip install tensorflow"
   ]
  },
  {
   "cell_type": "code",
   "execution_count": 1,
   "metadata": {},
   "outputs": [],
   "source": [
    "import pandas as pd\n",
    "from sklearn.preprocessing import OneHotEncoder\n",
    "from sklearn.model_selection import train_test_split\n",
    "from sklearn.preprocessing import MinMaxScaler\n",
    "from tensorflow.keras.models import Sequential\n",
    "from tensorflow.keras.layers import Dense, Input, Dropout\n",
    "from sklearn.metrics import classification_report\n",
    "import seaborn as sns"
   ]
  },
  {
   "cell_type": "code",
   "execution_count": 2,
   "metadata": {},
   "outputs": [],
   "source": [
    "data = pd.read_csv('pollution_dataset.csv')"
   ]
  },
  {
   "cell_type": "code",
   "execution_count": 3,
   "metadata": {},
   "outputs": [
    {
     "data": {
      "text/html": [
       "<div>\n",
       "<style scoped>\n",
       "    .dataframe tbody tr th:only-of-type {\n",
       "        vertical-align: middle;\n",
       "    }\n",
       "\n",
       "    .dataframe tbody tr th {\n",
       "        vertical-align: top;\n",
       "    }\n",
       "\n",
       "    .dataframe thead th {\n",
       "        text-align: right;\n",
       "    }\n",
       "</style>\n",
       "<table border=\"1\" class=\"dataframe\">\n",
       "  <thead>\n",
       "    <tr style=\"text-align: right;\">\n",
       "      <th></th>\n",
       "      <th>Temperature</th>\n",
       "      <th>Humidity</th>\n",
       "      <th>PM2.5</th>\n",
       "      <th>PM10</th>\n",
       "      <th>NO2</th>\n",
       "      <th>SO2</th>\n",
       "      <th>CO</th>\n",
       "      <th>Proximity_to_Industrial_Areas</th>\n",
       "      <th>Population_Density</th>\n",
       "      <th>Air Quality</th>\n",
       "    </tr>\n",
       "  </thead>\n",
       "  <tbody>\n",
       "    <tr>\n",
       "      <th>0</th>\n",
       "      <td>29.8</td>\n",
       "      <td>59.1</td>\n",
       "      <td>5.2</td>\n",
       "      <td>17.9</td>\n",
       "      <td>18.9</td>\n",
       "      <td>9.2</td>\n",
       "      <td>1.72</td>\n",
       "      <td>6.3</td>\n",
       "      <td>319</td>\n",
       "      <td>Moderate</td>\n",
       "    </tr>\n",
       "    <tr>\n",
       "      <th>1</th>\n",
       "      <td>28.3</td>\n",
       "      <td>75.6</td>\n",
       "      <td>2.3</td>\n",
       "      <td>12.2</td>\n",
       "      <td>30.8</td>\n",
       "      <td>9.7</td>\n",
       "      <td>1.64</td>\n",
       "      <td>6.0</td>\n",
       "      <td>611</td>\n",
       "      <td>Moderate</td>\n",
       "    </tr>\n",
       "    <tr>\n",
       "      <th>2</th>\n",
       "      <td>23.1</td>\n",
       "      <td>74.7</td>\n",
       "      <td>26.7</td>\n",
       "      <td>33.8</td>\n",
       "      <td>24.4</td>\n",
       "      <td>12.6</td>\n",
       "      <td>1.63</td>\n",
       "      <td>5.2</td>\n",
       "      <td>619</td>\n",
       "      <td>Moderate</td>\n",
       "    </tr>\n",
       "    <tr>\n",
       "      <th>3</th>\n",
       "      <td>27.1</td>\n",
       "      <td>39.1</td>\n",
       "      <td>6.1</td>\n",
       "      <td>6.3</td>\n",
       "      <td>13.5</td>\n",
       "      <td>5.3</td>\n",
       "      <td>1.15</td>\n",
       "      <td>11.1</td>\n",
       "      <td>551</td>\n",
       "      <td>Good</td>\n",
       "    </tr>\n",
       "    <tr>\n",
       "      <th>4</th>\n",
       "      <td>26.5</td>\n",
       "      <td>70.7</td>\n",
       "      <td>6.9</td>\n",
       "      <td>16.0</td>\n",
       "      <td>21.9</td>\n",
       "      <td>5.6</td>\n",
       "      <td>1.01</td>\n",
       "      <td>12.7</td>\n",
       "      <td>303</td>\n",
       "      <td>Good</td>\n",
       "    </tr>\n",
       "  </tbody>\n",
       "</table>\n",
       "</div>"
      ],
      "text/plain": [
       "   Temperature  Humidity  PM2.5  PM10   NO2   SO2    CO  \\\n",
       "0         29.8      59.1    5.2  17.9  18.9   9.2  1.72   \n",
       "1         28.3      75.6    2.3  12.2  30.8   9.7  1.64   \n",
       "2         23.1      74.7   26.7  33.8  24.4  12.6  1.63   \n",
       "3         27.1      39.1    6.1   6.3  13.5   5.3  1.15   \n",
       "4         26.5      70.7    6.9  16.0  21.9   5.6  1.01   \n",
       "\n",
       "   Proximity_to_Industrial_Areas  Population_Density Air Quality  \n",
       "0                            6.3                 319    Moderate  \n",
       "1                            6.0                 611    Moderate  \n",
       "2                            5.2                 619    Moderate  \n",
       "3                           11.1                 551        Good  \n",
       "4                           12.7                 303        Good  "
      ]
     },
     "execution_count": 3,
     "metadata": {},
     "output_type": "execute_result"
    }
   ],
   "source": [
    "data.head()"
   ]
  },
  {
   "cell_type": "code",
   "execution_count": 4,
   "metadata": {},
   "outputs": [
    {
     "data": {
      "text/plain": [
       "Temperature                      0\n",
       "Humidity                         0\n",
       "PM2.5                            0\n",
       "PM10                             0\n",
       "NO2                              0\n",
       "SO2                              0\n",
       "CO                               0\n",
       "Proximity_to_Industrial_Areas    0\n",
       "Population_Density               0\n",
       "Air Quality                      0\n",
       "dtype: int64"
      ]
     },
     "execution_count": 4,
     "metadata": {},
     "output_type": "execute_result"
    }
   ],
   "source": [
    "data.isnull().sum()"
   ]
  },
  {
   "cell_type": "code",
   "execution_count": 5,
   "metadata": {},
   "outputs": [],
   "source": [
    "def one_hot_encode_data(data: pd.DataFrame, columns: list):\n",
    "    encoder = OneHotEncoder(sparse_output=False, drop=None)  \n",
    "    data_copy = data.copy()\n",
    "\n",
    "    for column in columns:\n",
    "        one_hot = encoder.fit_transform(data_copy[[column]].astype(str))\n",
    "        one_hot_cols = [f\"{column}_{cat}\" for cat in encoder.categories_[0]]\n",
    "        one_hot_df = pd.DataFrame(one_hot, columns=one_hot_cols, index=data_copy.index)\n",
    "        data_copy = pd.concat([data_copy.drop(column, axis=1), one_hot_df], axis=1)\n",
    "\n",
    "    return data_copy\n",
    "     \n"
   ]
  },
  {
   "cell_type": "code",
   "execution_count": 6,
   "metadata": {},
   "outputs": [],
   "source": [
    "X, y = data.drop(columns=[\"Air Quality\"]), data[\"Air Quality\"]"
   ]
  },
  {
   "cell_type": "code",
   "execution_count": 7,
   "metadata": {},
   "outputs": [],
   "source": [
    "y_encoded = one_hot_encode_data(y.to_frame(), [\"Air Quality\"])"
   ]
  },
  {
   "cell_type": "code",
   "execution_count": 8,
   "metadata": {},
   "outputs": [],
   "source": [
    "train_X, test_X, train_y, test_y = train_test_split(X, y_encoded, test_size=0.2, random_state=42)\n"
   ]
  },
  {
   "cell_type": "code",
   "execution_count": 9,
   "metadata": {},
   "outputs": [],
   "source": [
    "scaler = MinMaxScaler()\n",
    "train_X = scaler.fit_transform(train_X)\n",
    "test_X = scaler.transform(test_X)"
   ]
  },
  {
   "cell_type": "code",
   "execution_count": 10,
   "metadata": {},
   "outputs": [],
   "source": [
    "model_shallow = Sequential([\n",
    "    Input(shape=(X.shape[1],)),\n",
    "    Dense(16, kernel_initializer=\"uniform\", activation=\"relu\"),\n",
    "    Dense(8, kernel_initializer=\"uniform\", activation=\"relu\"),\n",
    "    Dense(y_encoded.shape[1], kernel_initializer=\"uniform\", activation=\"softmax\")\n",
    "])\n"
   ]
  },
  {
   "cell_type": "code",
   "execution_count": 11,
   "metadata": {},
   "outputs": [],
   "source": [
    "model_shallow.compile(\n",
    "    loss=\"categorical_crossentropy\",\n",
    "    optimizer=\"adam\",\n",
    "    metrics=[\"accuracy\"]\n",
    ")"
   ]
  },
  {
   "cell_type": "code",
   "execution_count": 12,
   "metadata": {},
   "outputs": [
    {
     "data": {
      "text/html": [
       "<pre style=\"white-space:pre;overflow-x:auto;line-height:normal;font-family:Menlo,'DejaVu Sans Mono',consolas,'Courier New',monospace\"><span style=\"font-weight: bold\">Model: \"sequential\"</span>\n",
       "</pre>\n"
      ],
      "text/plain": [
       "\u001b[1mModel: \"sequential\"\u001b[0m\n"
      ]
     },
     "metadata": {},
     "output_type": "display_data"
    },
    {
     "data": {
      "text/html": [
       "<pre style=\"white-space:pre;overflow-x:auto;line-height:normal;font-family:Menlo,'DejaVu Sans Mono',consolas,'Courier New',monospace\">┏━━━━━━━━━━━━━━━━━━━━━━━━━━━━━━━━━━━━━━┳━━━━━━━━━━━━━━━━━━━━━━━━━━━━━┳━━━━━━━━━━━━━━━━━┓\n",
       "┃<span style=\"font-weight: bold\"> Layer (type)                         </span>┃<span style=\"font-weight: bold\"> Output Shape                </span>┃<span style=\"font-weight: bold\">         Param # </span>┃\n",
       "┡━━━━━━━━━━━━━━━━━━━━━━━━━━━━━━━━━━━━━━╇━━━━━━━━━━━━━━━━━━━━━━━━━━━━━╇━━━━━━━━━━━━━━━━━┩\n",
       "│ dense (<span style=\"color: #0087ff; text-decoration-color: #0087ff\">Dense</span>)                        │ (<span style=\"color: #00d7ff; text-decoration-color: #00d7ff\">None</span>, <span style=\"color: #00af00; text-decoration-color: #00af00\">16</span>)                  │             <span style=\"color: #00af00; text-decoration-color: #00af00\">160</span> │\n",
       "├──────────────────────────────────────┼─────────────────────────────┼─────────────────┤\n",
       "│ dense_1 (<span style=\"color: #0087ff; text-decoration-color: #0087ff\">Dense</span>)                      │ (<span style=\"color: #00d7ff; text-decoration-color: #00d7ff\">None</span>, <span style=\"color: #00af00; text-decoration-color: #00af00\">8</span>)                   │             <span style=\"color: #00af00; text-decoration-color: #00af00\">136</span> │\n",
       "├──────────────────────────────────────┼─────────────────────────────┼─────────────────┤\n",
       "│ dense_2 (<span style=\"color: #0087ff; text-decoration-color: #0087ff\">Dense</span>)                      │ (<span style=\"color: #00d7ff; text-decoration-color: #00d7ff\">None</span>, <span style=\"color: #00af00; text-decoration-color: #00af00\">4</span>)                   │              <span style=\"color: #00af00; text-decoration-color: #00af00\">36</span> │\n",
       "└──────────────────────────────────────┴─────────────────────────────┴─────────────────┘\n",
       "</pre>\n"
      ],
      "text/plain": [
       "┏━━━━━━━━━━━━━━━━━━━━━━━━━━━━━━━━━━━━━━┳━━━━━━━━━━━━━━━━━━━━━━━━━━━━━┳━━━━━━━━━━━━━━━━━┓\n",
       "┃\u001b[1m \u001b[0m\u001b[1mLayer (type)                        \u001b[0m\u001b[1m \u001b[0m┃\u001b[1m \u001b[0m\u001b[1mOutput Shape               \u001b[0m\u001b[1m \u001b[0m┃\u001b[1m \u001b[0m\u001b[1m        Param #\u001b[0m\u001b[1m \u001b[0m┃\n",
       "┡━━━━━━━━━━━━━━━━━━━━━━━━━━━━━━━━━━━━━━╇━━━━━━━━━━━━━━━━━━━━━━━━━━━━━╇━━━━━━━━━━━━━━━━━┩\n",
       "│ dense (\u001b[38;5;33mDense\u001b[0m)                        │ (\u001b[38;5;45mNone\u001b[0m, \u001b[38;5;34m16\u001b[0m)                  │             \u001b[38;5;34m160\u001b[0m │\n",
       "├──────────────────────────────────────┼─────────────────────────────┼─────────────────┤\n",
       "│ dense_1 (\u001b[38;5;33mDense\u001b[0m)                      │ (\u001b[38;5;45mNone\u001b[0m, \u001b[38;5;34m8\u001b[0m)                   │             \u001b[38;5;34m136\u001b[0m │\n",
       "├──────────────────────────────────────┼─────────────────────────────┼─────────────────┤\n",
       "│ dense_2 (\u001b[38;5;33mDense\u001b[0m)                      │ (\u001b[38;5;45mNone\u001b[0m, \u001b[38;5;34m4\u001b[0m)                   │              \u001b[38;5;34m36\u001b[0m │\n",
       "└──────────────────────────────────────┴─────────────────────────────┴─────────────────┘\n"
      ]
     },
     "metadata": {},
     "output_type": "display_data"
    },
    {
     "data": {
      "text/html": [
       "<pre style=\"white-space:pre;overflow-x:auto;line-height:normal;font-family:Menlo,'DejaVu Sans Mono',consolas,'Courier New',monospace\"><span style=\"font-weight: bold\"> Total params: </span><span style=\"color: #00af00; text-decoration-color: #00af00\">332</span> (1.30 KB)\n",
       "</pre>\n"
      ],
      "text/plain": [
       "\u001b[1m Total params: \u001b[0m\u001b[38;5;34m332\u001b[0m (1.30 KB)\n"
      ]
     },
     "metadata": {},
     "output_type": "display_data"
    },
    {
     "data": {
      "text/html": [
       "<pre style=\"white-space:pre;overflow-x:auto;line-height:normal;font-family:Menlo,'DejaVu Sans Mono',consolas,'Courier New',monospace\"><span style=\"font-weight: bold\"> Trainable params: </span><span style=\"color: #00af00; text-decoration-color: #00af00\">332</span> (1.30 KB)\n",
       "</pre>\n"
      ],
      "text/plain": [
       "\u001b[1m Trainable params: \u001b[0m\u001b[38;5;34m332\u001b[0m (1.30 KB)\n"
      ]
     },
     "metadata": {},
     "output_type": "display_data"
    },
    {
     "data": {
      "text/html": [
       "<pre style=\"white-space:pre;overflow-x:auto;line-height:normal;font-family:Menlo,'DejaVu Sans Mono',consolas,'Courier New',monospace\"><span style=\"font-weight: bold\"> Non-trainable params: </span><span style=\"color: #00af00; text-decoration-color: #00af00\">0</span> (0.00 B)\n",
       "</pre>\n"
      ],
      "text/plain": [
       "\u001b[1m Non-trainable params: \u001b[0m\u001b[38;5;34m0\u001b[0m (0.00 B)\n"
      ]
     },
     "metadata": {},
     "output_type": "display_data"
    }
   ],
   "source": [
    "model_shallow.summary()"
   ]
  },
  {
   "cell_type": "code",
   "execution_count": 13,
   "metadata": {},
   "outputs": [],
   "source": [
    "model_medium = Sequential([\n",
    "    Input(shape=(X.shape[1],)),\n",
    "    Dense(64, kernel_initializer=\"uniform\", activation=\"swish\"),\n",
    "    Dropout(0.2),\n",
    "    Dense(32, kernel_initializer=\"uniform\", activation=\"swish\"),\n",
    "    Dense(16, kernel_initializer=\"uniform\", activation=\"swish\"),\n",
    "    Dense(4, kernel_initializer=\"uniform\", activation=\"softmax\")\n",
    "])"
   ]
  },
  {
   "cell_type": "code",
   "execution_count": 14,
   "metadata": {},
   "outputs": [],
   "source": [
    "model_medium.compile(\n",
    "    loss=\"categorical_crossentropy\",\n",
    "    optimizer=\"adam\",\n",
    "    metrics=[\"accuracy\"]\n",
    ")"
   ]
  },
  {
   "cell_type": "code",
   "execution_count": 15,
   "metadata": {},
   "outputs": [
    {
     "data": {
      "text/html": [
       "<pre style=\"white-space:pre;overflow-x:auto;line-height:normal;font-family:Menlo,'DejaVu Sans Mono',consolas,'Courier New',monospace\"><span style=\"font-weight: bold\">Model: \"sequential_1\"</span>\n",
       "</pre>\n"
      ],
      "text/plain": [
       "\u001b[1mModel: \"sequential_1\"\u001b[0m\n"
      ]
     },
     "metadata": {},
     "output_type": "display_data"
    },
    {
     "data": {
      "text/html": [
       "<pre style=\"white-space:pre;overflow-x:auto;line-height:normal;font-family:Menlo,'DejaVu Sans Mono',consolas,'Courier New',monospace\">┏━━━━━━━━━━━━━━━━━━━━━━━━━━━━━━━━━━━━━━┳━━━━━━━━━━━━━━━━━━━━━━━━━━━━━┳━━━━━━━━━━━━━━━━━┓\n",
       "┃<span style=\"font-weight: bold\"> Layer (type)                         </span>┃<span style=\"font-weight: bold\"> Output Shape                </span>┃<span style=\"font-weight: bold\">         Param # </span>┃\n",
       "┡━━━━━━━━━━━━━━━━━━━━━━━━━━━━━━━━━━━━━━╇━━━━━━━━━━━━━━━━━━━━━━━━━━━━━╇━━━━━━━━━━━━━━━━━┩\n",
       "│ dense_3 (<span style=\"color: #0087ff; text-decoration-color: #0087ff\">Dense</span>)                      │ (<span style=\"color: #00d7ff; text-decoration-color: #00d7ff\">None</span>, <span style=\"color: #00af00; text-decoration-color: #00af00\">64</span>)                  │             <span style=\"color: #00af00; text-decoration-color: #00af00\">640</span> │\n",
       "├──────────────────────────────────────┼─────────────────────────────┼─────────────────┤\n",
       "│ dropout (<span style=\"color: #0087ff; text-decoration-color: #0087ff\">Dropout</span>)                    │ (<span style=\"color: #00d7ff; text-decoration-color: #00d7ff\">None</span>, <span style=\"color: #00af00; text-decoration-color: #00af00\">64</span>)                  │               <span style=\"color: #00af00; text-decoration-color: #00af00\">0</span> │\n",
       "├──────────────────────────────────────┼─────────────────────────────┼─────────────────┤\n",
       "│ dense_4 (<span style=\"color: #0087ff; text-decoration-color: #0087ff\">Dense</span>)                      │ (<span style=\"color: #00d7ff; text-decoration-color: #00d7ff\">None</span>, <span style=\"color: #00af00; text-decoration-color: #00af00\">32</span>)                  │           <span style=\"color: #00af00; text-decoration-color: #00af00\">2,080</span> │\n",
       "├──────────────────────────────────────┼─────────────────────────────┼─────────────────┤\n",
       "│ dense_5 (<span style=\"color: #0087ff; text-decoration-color: #0087ff\">Dense</span>)                      │ (<span style=\"color: #00d7ff; text-decoration-color: #00d7ff\">None</span>, <span style=\"color: #00af00; text-decoration-color: #00af00\">16</span>)                  │             <span style=\"color: #00af00; text-decoration-color: #00af00\">528</span> │\n",
       "├──────────────────────────────────────┼─────────────────────────────┼─────────────────┤\n",
       "│ dense_6 (<span style=\"color: #0087ff; text-decoration-color: #0087ff\">Dense</span>)                      │ (<span style=\"color: #00d7ff; text-decoration-color: #00d7ff\">None</span>, <span style=\"color: #00af00; text-decoration-color: #00af00\">4</span>)                   │              <span style=\"color: #00af00; text-decoration-color: #00af00\">68</span> │\n",
       "└──────────────────────────────────────┴─────────────────────────────┴─────────────────┘\n",
       "</pre>\n"
      ],
      "text/plain": [
       "┏━━━━━━━━━━━━━━━━━━━━━━━━━━━━━━━━━━━━━━┳━━━━━━━━━━━━━━━━━━━━━━━━━━━━━┳━━━━━━━━━━━━━━━━━┓\n",
       "┃\u001b[1m \u001b[0m\u001b[1mLayer (type)                        \u001b[0m\u001b[1m \u001b[0m┃\u001b[1m \u001b[0m\u001b[1mOutput Shape               \u001b[0m\u001b[1m \u001b[0m┃\u001b[1m \u001b[0m\u001b[1m        Param #\u001b[0m\u001b[1m \u001b[0m┃\n",
       "┡━━━━━━━━━━━━━━━━━━━━━━━━━━━━━━━━━━━━━━╇━━━━━━━━━━━━━━━━━━━━━━━━━━━━━╇━━━━━━━━━━━━━━━━━┩\n",
       "│ dense_3 (\u001b[38;5;33mDense\u001b[0m)                      │ (\u001b[38;5;45mNone\u001b[0m, \u001b[38;5;34m64\u001b[0m)                  │             \u001b[38;5;34m640\u001b[0m │\n",
       "├──────────────────────────────────────┼─────────────────────────────┼─────────────────┤\n",
       "│ dropout (\u001b[38;5;33mDropout\u001b[0m)                    │ (\u001b[38;5;45mNone\u001b[0m, \u001b[38;5;34m64\u001b[0m)                  │               \u001b[38;5;34m0\u001b[0m │\n",
       "├──────────────────────────────────────┼─────────────────────────────┼─────────────────┤\n",
       "│ dense_4 (\u001b[38;5;33mDense\u001b[0m)                      │ (\u001b[38;5;45mNone\u001b[0m, \u001b[38;5;34m32\u001b[0m)                  │           \u001b[38;5;34m2,080\u001b[0m │\n",
       "├──────────────────────────────────────┼─────────────────────────────┼─────────────────┤\n",
       "│ dense_5 (\u001b[38;5;33mDense\u001b[0m)                      │ (\u001b[38;5;45mNone\u001b[0m, \u001b[38;5;34m16\u001b[0m)                  │             \u001b[38;5;34m528\u001b[0m │\n",
       "├──────────────────────────────────────┼─────────────────────────────┼─────────────────┤\n",
       "│ dense_6 (\u001b[38;5;33mDense\u001b[0m)                      │ (\u001b[38;5;45mNone\u001b[0m, \u001b[38;5;34m4\u001b[0m)                   │              \u001b[38;5;34m68\u001b[0m │\n",
       "└──────────────────────────────────────┴─────────────────────────────┴─────────────────┘\n"
      ]
     },
     "metadata": {},
     "output_type": "display_data"
    },
    {
     "data": {
      "text/html": [
       "<pre style=\"white-space:pre;overflow-x:auto;line-height:normal;font-family:Menlo,'DejaVu Sans Mono',consolas,'Courier New',monospace\"><span style=\"font-weight: bold\"> Total params: </span><span style=\"color: #00af00; text-decoration-color: #00af00\">3,316</span> (12.95 KB)\n",
       "</pre>\n"
      ],
      "text/plain": [
       "\u001b[1m Total params: \u001b[0m\u001b[38;5;34m3,316\u001b[0m (12.95 KB)\n"
      ]
     },
     "metadata": {},
     "output_type": "display_data"
    },
    {
     "data": {
      "text/html": [
       "<pre style=\"white-space:pre;overflow-x:auto;line-height:normal;font-family:Menlo,'DejaVu Sans Mono',consolas,'Courier New',monospace\"><span style=\"font-weight: bold\"> Trainable params: </span><span style=\"color: #00af00; text-decoration-color: #00af00\">3,316</span> (12.95 KB)\n",
       "</pre>\n"
      ],
      "text/plain": [
       "\u001b[1m Trainable params: \u001b[0m\u001b[38;5;34m3,316\u001b[0m (12.95 KB)\n"
      ]
     },
     "metadata": {},
     "output_type": "display_data"
    },
    {
     "data": {
      "text/html": [
       "<pre style=\"white-space:pre;overflow-x:auto;line-height:normal;font-family:Menlo,'DejaVu Sans Mono',consolas,'Courier New',monospace\"><span style=\"font-weight: bold\"> Non-trainable params: </span><span style=\"color: #00af00; text-decoration-color: #00af00\">0</span> (0.00 B)\n",
       "</pre>\n"
      ],
      "text/plain": [
       "\u001b[1m Non-trainable params: \u001b[0m\u001b[38;5;34m0\u001b[0m (0.00 B)\n"
      ]
     },
     "metadata": {},
     "output_type": "display_data"
    }
   ],
   "source": [
    "model_medium.summary()\n"
   ]
  },
  {
   "cell_type": "code",
   "execution_count": 16,
   "metadata": {},
   "outputs": [],
   "source": [
    "model_deep = Sequential([\n",
    "    Input(shape=(X.shape[1],)),\n",
    "    Dense(128, kernel_initializer=\"uniform\", activation=\"tanh\"),\n",
    "    Dropout(0.3),\n",
    "    Dense(64, kernel_initializer=\"uniform\", activation=\"tanh\"),\n",
    "    Dense(32, kernel_initializer=\"uniform\", activation=\"tanh\"),\n",
    "    Dense(16, kernel_initializer=\"uniform\", activation=\"tanh\"),\n",
    "    Dense(4, kernel_initializer=\"uniform\", activation=\"softmax\")\n",
    "])"
   ]
  },
  {
   "cell_type": "code",
   "execution_count": 17,
   "metadata": {},
   "outputs": [],
   "source": [
    "model_deep.compile(\n",
    "    loss=\"categorical_crossentropy\",\n",
    "    optimizer=\"adam\",\n",
    "    metrics=[\"accuracy\"]\n",
    ")"
   ]
  },
  {
   "cell_type": "code",
   "execution_count": 18,
   "metadata": {},
   "outputs": [
    {
     "data": {
      "text/html": [
       "<pre style=\"white-space:pre;overflow-x:auto;line-height:normal;font-family:Menlo,'DejaVu Sans Mono',consolas,'Courier New',monospace\"><span style=\"font-weight: bold\">Model: \"sequential_2\"</span>\n",
       "</pre>\n"
      ],
      "text/plain": [
       "\u001b[1mModel: \"sequential_2\"\u001b[0m\n"
      ]
     },
     "metadata": {},
     "output_type": "display_data"
    },
    {
     "data": {
      "text/html": [
       "<pre style=\"white-space:pre;overflow-x:auto;line-height:normal;font-family:Menlo,'DejaVu Sans Mono',consolas,'Courier New',monospace\">┏━━━━━━━━━━━━━━━━━━━━━━━━━━━━━━━━━━━━━━┳━━━━━━━━━━━━━━━━━━━━━━━━━━━━━┳━━━━━━━━━━━━━━━━━┓\n",
       "┃<span style=\"font-weight: bold\"> Layer (type)                         </span>┃<span style=\"font-weight: bold\"> Output Shape                </span>┃<span style=\"font-weight: bold\">         Param # </span>┃\n",
       "┡━━━━━━━━━━━━━━━━━━━━━━━━━━━━━━━━━━━━━━╇━━━━━━━━━━━━━━━━━━━━━━━━━━━━━╇━━━━━━━━━━━━━━━━━┩\n",
       "│ dense_7 (<span style=\"color: #0087ff; text-decoration-color: #0087ff\">Dense</span>)                      │ (<span style=\"color: #00d7ff; text-decoration-color: #00d7ff\">None</span>, <span style=\"color: #00af00; text-decoration-color: #00af00\">128</span>)                 │           <span style=\"color: #00af00; text-decoration-color: #00af00\">1,280</span> │\n",
       "├──────────────────────────────────────┼─────────────────────────────┼─────────────────┤\n",
       "│ dropout_1 (<span style=\"color: #0087ff; text-decoration-color: #0087ff\">Dropout</span>)                  │ (<span style=\"color: #00d7ff; text-decoration-color: #00d7ff\">None</span>, <span style=\"color: #00af00; text-decoration-color: #00af00\">128</span>)                 │               <span style=\"color: #00af00; text-decoration-color: #00af00\">0</span> │\n",
       "├──────────────────────────────────────┼─────────────────────────────┼─────────────────┤\n",
       "│ dense_8 (<span style=\"color: #0087ff; text-decoration-color: #0087ff\">Dense</span>)                      │ (<span style=\"color: #00d7ff; text-decoration-color: #00d7ff\">None</span>, <span style=\"color: #00af00; text-decoration-color: #00af00\">64</span>)                  │           <span style=\"color: #00af00; text-decoration-color: #00af00\">8,256</span> │\n",
       "├──────────────────────────────────────┼─────────────────────────────┼─────────────────┤\n",
       "│ dense_9 (<span style=\"color: #0087ff; text-decoration-color: #0087ff\">Dense</span>)                      │ (<span style=\"color: #00d7ff; text-decoration-color: #00d7ff\">None</span>, <span style=\"color: #00af00; text-decoration-color: #00af00\">32</span>)                  │           <span style=\"color: #00af00; text-decoration-color: #00af00\">2,080</span> │\n",
       "├──────────────────────────────────────┼─────────────────────────────┼─────────────────┤\n",
       "│ dense_10 (<span style=\"color: #0087ff; text-decoration-color: #0087ff\">Dense</span>)                     │ (<span style=\"color: #00d7ff; text-decoration-color: #00d7ff\">None</span>, <span style=\"color: #00af00; text-decoration-color: #00af00\">16</span>)                  │             <span style=\"color: #00af00; text-decoration-color: #00af00\">528</span> │\n",
       "├──────────────────────────────────────┼─────────────────────────────┼─────────────────┤\n",
       "│ dense_11 (<span style=\"color: #0087ff; text-decoration-color: #0087ff\">Dense</span>)                     │ (<span style=\"color: #00d7ff; text-decoration-color: #00d7ff\">None</span>, <span style=\"color: #00af00; text-decoration-color: #00af00\">4</span>)                   │              <span style=\"color: #00af00; text-decoration-color: #00af00\">68</span> │\n",
       "└──────────────────────────────────────┴─────────────────────────────┴─────────────────┘\n",
       "</pre>\n"
      ],
      "text/plain": [
       "┏━━━━━━━━━━━━━━━━━━━━━━━━━━━━━━━━━━━━━━┳━━━━━━━━━━━━━━━━━━━━━━━━━━━━━┳━━━━━━━━━━━━━━━━━┓\n",
       "┃\u001b[1m \u001b[0m\u001b[1mLayer (type)                        \u001b[0m\u001b[1m \u001b[0m┃\u001b[1m \u001b[0m\u001b[1mOutput Shape               \u001b[0m\u001b[1m \u001b[0m┃\u001b[1m \u001b[0m\u001b[1m        Param #\u001b[0m\u001b[1m \u001b[0m┃\n",
       "┡━━━━━━━━━━━━━━━━━━━━━━━━━━━━━━━━━━━━━━╇━━━━━━━━━━━━━━━━━━━━━━━━━━━━━╇━━━━━━━━━━━━━━━━━┩\n",
       "│ dense_7 (\u001b[38;5;33mDense\u001b[0m)                      │ (\u001b[38;5;45mNone\u001b[0m, \u001b[38;5;34m128\u001b[0m)                 │           \u001b[38;5;34m1,280\u001b[0m │\n",
       "├──────────────────────────────────────┼─────────────────────────────┼─────────────────┤\n",
       "│ dropout_1 (\u001b[38;5;33mDropout\u001b[0m)                  │ (\u001b[38;5;45mNone\u001b[0m, \u001b[38;5;34m128\u001b[0m)                 │               \u001b[38;5;34m0\u001b[0m │\n",
       "├──────────────────────────────────────┼─────────────────────────────┼─────────────────┤\n",
       "│ dense_8 (\u001b[38;5;33mDense\u001b[0m)                      │ (\u001b[38;5;45mNone\u001b[0m, \u001b[38;5;34m64\u001b[0m)                  │           \u001b[38;5;34m8,256\u001b[0m │\n",
       "├──────────────────────────────────────┼─────────────────────────────┼─────────────────┤\n",
       "│ dense_9 (\u001b[38;5;33mDense\u001b[0m)                      │ (\u001b[38;5;45mNone\u001b[0m, \u001b[38;5;34m32\u001b[0m)                  │           \u001b[38;5;34m2,080\u001b[0m │\n",
       "├──────────────────────────────────────┼─────────────────────────────┼─────────────────┤\n",
       "│ dense_10 (\u001b[38;5;33mDense\u001b[0m)                     │ (\u001b[38;5;45mNone\u001b[0m, \u001b[38;5;34m16\u001b[0m)                  │             \u001b[38;5;34m528\u001b[0m │\n",
       "├──────────────────────────────────────┼─────────────────────────────┼─────────────────┤\n",
       "│ dense_11 (\u001b[38;5;33mDense\u001b[0m)                     │ (\u001b[38;5;45mNone\u001b[0m, \u001b[38;5;34m4\u001b[0m)                   │              \u001b[38;5;34m68\u001b[0m │\n",
       "└──────────────────────────────────────┴─────────────────────────────┴─────────────────┘\n"
      ]
     },
     "metadata": {},
     "output_type": "display_data"
    },
    {
     "data": {
      "text/html": [
       "<pre style=\"white-space:pre;overflow-x:auto;line-height:normal;font-family:Menlo,'DejaVu Sans Mono',consolas,'Courier New',monospace\"><span style=\"font-weight: bold\"> Total params: </span><span style=\"color: #00af00; text-decoration-color: #00af00\">12,212</span> (47.70 KB)\n",
       "</pre>\n"
      ],
      "text/plain": [
       "\u001b[1m Total params: \u001b[0m\u001b[38;5;34m12,212\u001b[0m (47.70 KB)\n"
      ]
     },
     "metadata": {},
     "output_type": "display_data"
    },
    {
     "data": {
      "text/html": [
       "<pre style=\"white-space:pre;overflow-x:auto;line-height:normal;font-family:Menlo,'DejaVu Sans Mono',consolas,'Courier New',monospace\"><span style=\"font-weight: bold\"> Trainable params: </span><span style=\"color: #00af00; text-decoration-color: #00af00\">12,212</span> (47.70 KB)\n",
       "</pre>\n"
      ],
      "text/plain": [
       "\u001b[1m Trainable params: \u001b[0m\u001b[38;5;34m12,212\u001b[0m (47.70 KB)\n"
      ]
     },
     "metadata": {},
     "output_type": "display_data"
    },
    {
     "data": {
      "text/html": [
       "<pre style=\"white-space:pre;overflow-x:auto;line-height:normal;font-family:Menlo,'DejaVu Sans Mono',consolas,'Courier New',monospace\"><span style=\"font-weight: bold\"> Non-trainable params: </span><span style=\"color: #00af00; text-decoration-color: #00af00\">0</span> (0.00 B)\n",
       "</pre>\n"
      ],
      "text/plain": [
       "\u001b[1m Non-trainable params: \u001b[0m\u001b[38;5;34m0\u001b[0m (0.00 B)\n"
      ]
     },
     "metadata": {},
     "output_type": "display_data"
    }
   ],
   "source": [
    "model_deep.summary()"
   ]
  },
  {
   "cell_type": "code",
   "execution_count": 19,
   "metadata": {},
   "outputs": [
    {
     "name": "stdout",
     "output_type": "stream",
     "text": [
      "Epoch 1/64\n",
      "\u001b[1m450/450\u001b[0m \u001b[32m━━━━━━━━━━━━━━━━━━━━\u001b[0m\u001b[37m\u001b[0m \u001b[1m2s\u001b[0m 2ms/step - accuracy: 0.4192 - loss: 1.2652 - val_accuracy: 0.7600 - val_loss: 0.6833\n",
      "Epoch 2/64\n",
      "\u001b[1m450/450\u001b[0m \u001b[32m━━━━━━━━━━━━━━━━━━━━\u001b[0m\u001b[37m\u001b[0m \u001b[1m1s\u001b[0m 2ms/step - accuracy: 0.8354 - loss: 0.5563 - val_accuracy: 0.8900 - val_loss: 0.3957\n",
      "Epoch 3/64\n",
      "\u001b[1m450/450\u001b[0m \u001b[32m━━━━━━━━━━━━━━━━━━━━\u001b[0m\u001b[37m\u001b[0m \u001b[1m1s\u001b[0m 2ms/step - accuracy: 0.9092 - loss: 0.3510 - val_accuracy: 0.9025 - val_loss: 0.3112\n",
      "Epoch 4/64\n",
      "\u001b[1m450/450\u001b[0m \u001b[32m━━━━━━━━━━━━━━━━━━━━\u001b[0m\u001b[37m\u001b[0m \u001b[1m1s\u001b[0m 2ms/step - accuracy: 0.9194 - loss: 0.2813 - val_accuracy: 0.9175 - val_loss: 0.2627\n",
      "Epoch 5/64\n",
      "\u001b[1m450/450\u001b[0m \u001b[32m━━━━━━━━━━━━━━━━━━━━\u001b[0m\u001b[37m\u001b[0m \u001b[1m1s\u001b[0m 2ms/step - accuracy: 0.9246 - loss: 0.2438 - val_accuracy: 0.9175 - val_loss: 0.2448\n",
      "Epoch 6/64\n",
      "\u001b[1m450/450\u001b[0m \u001b[32m━━━━━━━━━━━━━━━━━━━━\u001b[0m\u001b[37m\u001b[0m \u001b[1m1s\u001b[0m 2ms/step - accuracy: 0.9309 - loss: 0.2204 - val_accuracy: 0.9250 - val_loss: 0.2219\n",
      "Epoch 7/64\n",
      "\u001b[1m450/450\u001b[0m \u001b[32m━━━━━━━━━━━━━━━━━━━━\u001b[0m\u001b[37m\u001b[0m \u001b[1m1s\u001b[0m 1ms/step - accuracy: 0.9276 - loss: 0.2063 - val_accuracy: 0.9175 - val_loss: 0.2206\n",
      "Epoch 8/64\n",
      "\u001b[1m450/450\u001b[0m \u001b[32m━━━━━━━━━━━━━━━━━━━━\u001b[0m\u001b[37m\u001b[0m \u001b[1m1s\u001b[0m 2ms/step - accuracy: 0.9279 - loss: 0.2017 - val_accuracy: 0.9275 - val_loss: 0.2043\n",
      "Epoch 9/64\n",
      "\u001b[1m450/450\u001b[0m \u001b[32m━━━━━━━━━━━━━━━━━━━━\u001b[0m\u001b[37m\u001b[0m \u001b[1m1s\u001b[0m 2ms/step - accuracy: 0.9349 - loss: 0.1891 - val_accuracy: 0.9400 - val_loss: 0.1967\n",
      "Epoch 10/64\n",
      "\u001b[1m450/450\u001b[0m \u001b[32m━━━━━━━━━━━━━━━━━━━━\u001b[0m\u001b[37m\u001b[0m \u001b[1m1s\u001b[0m 2ms/step - accuracy: 0.9287 - loss: 0.1953 - val_accuracy: 0.9350 - val_loss: 0.1941\n",
      "Epoch 11/64\n",
      "\u001b[1m450/450\u001b[0m \u001b[32m━━━━━━━━━━━━━━━━━━━━\u001b[0m\u001b[37m\u001b[0m \u001b[1m1s\u001b[0m 2ms/step - accuracy: 0.9367 - loss: 0.1779 - val_accuracy: 0.9325 - val_loss: 0.1926\n",
      "Epoch 12/64\n",
      "\u001b[1m450/450\u001b[0m \u001b[32m━━━━━━━━━━━━━━━━━━━━\u001b[0m\u001b[37m\u001b[0m \u001b[1m1s\u001b[0m 2ms/step - accuracy: 0.9332 - loss: 0.1832 - val_accuracy: 0.9200 - val_loss: 0.1983\n",
      "Epoch 13/64\n",
      "\u001b[1m450/450\u001b[0m \u001b[32m━━━━━━━━━━━━━━━━━━━━\u001b[0m\u001b[37m\u001b[0m \u001b[1m1s\u001b[0m 2ms/step - accuracy: 0.9284 - loss: 0.1840 - val_accuracy: 0.9325 - val_loss: 0.1850\n",
      "Epoch 14/64\n",
      "\u001b[1m450/450\u001b[0m \u001b[32m━━━━━━━━━━━━━━━━━━━━\u001b[0m\u001b[37m\u001b[0m \u001b[1m1s\u001b[0m 2ms/step - accuracy: 0.9391 - loss: 0.1711 - val_accuracy: 0.9400 - val_loss: 0.1785\n",
      "Epoch 15/64\n",
      "\u001b[1m450/450\u001b[0m \u001b[32m━━━━━━━━━━━━━━━━━━━━\u001b[0m\u001b[37m\u001b[0m \u001b[1m1s\u001b[0m 2ms/step - accuracy: 0.9427 - loss: 0.1634 - val_accuracy: 0.9350 - val_loss: 0.1796\n",
      "Epoch 16/64\n",
      "\u001b[1m450/450\u001b[0m \u001b[32m━━━━━━━━━━━━━━━━━━━━\u001b[0m\u001b[37m\u001b[0m \u001b[1m1s\u001b[0m 2ms/step - accuracy: 0.9384 - loss: 0.1717 - val_accuracy: 0.9350 - val_loss: 0.1758\n",
      "Epoch 17/64\n",
      "\u001b[1m450/450\u001b[0m \u001b[32m━━━━━━━━━━━━━━━━━━━━\u001b[0m\u001b[37m\u001b[0m \u001b[1m1s\u001b[0m 2ms/step - accuracy: 0.9264 - loss: 0.1803 - val_accuracy: 0.9275 - val_loss: 0.1972\n",
      "Epoch 18/64\n",
      "\u001b[1m450/450\u001b[0m \u001b[32m━━━━━━━━━━━━━━━━━━━━\u001b[0m\u001b[37m\u001b[0m \u001b[1m1s\u001b[0m 2ms/step - accuracy: 0.9329 - loss: 0.1743 - val_accuracy: 0.9450 - val_loss: 0.1746\n",
      "Epoch 19/64\n",
      "\u001b[1m450/450\u001b[0m \u001b[32m━━━━━━━━━━━━━━━━━━━━\u001b[0m\u001b[37m\u001b[0m \u001b[1m1s\u001b[0m 2ms/step - accuracy: 0.9352 - loss: 0.1774 - val_accuracy: 0.9350 - val_loss: 0.1757\n",
      "Epoch 20/64\n",
      "\u001b[1m450/450\u001b[0m \u001b[32m━━━━━━━━━━━━━━━━━━━━\u001b[0m\u001b[37m\u001b[0m \u001b[1m1s\u001b[0m 2ms/step - accuracy: 0.9296 - loss: 0.1820 - val_accuracy: 0.9425 - val_loss: 0.1727\n",
      "Epoch 21/64\n",
      "\u001b[1m450/450\u001b[0m \u001b[32m━━━━━━━━━━━━━━━━━━━━\u001b[0m\u001b[37m\u001b[0m \u001b[1m1s\u001b[0m 2ms/step - accuracy: 0.9299 - loss: 0.1631 - val_accuracy: 0.9275 - val_loss: 0.1824\n",
      "Epoch 22/64\n",
      "\u001b[1m450/450\u001b[0m \u001b[32m━━━━━━━━━━━━━━━━━━━━\u001b[0m\u001b[37m\u001b[0m \u001b[1m1s\u001b[0m 2ms/step - accuracy: 0.9283 - loss: 0.1771 - val_accuracy: 0.9475 - val_loss: 0.1719\n",
      "Epoch 23/64\n",
      "\u001b[1m450/450\u001b[0m \u001b[32m━━━━━━━━━━━━━━━━━━━━\u001b[0m\u001b[37m\u001b[0m \u001b[1m1s\u001b[0m 2ms/step - accuracy: 0.9339 - loss: 0.1802 - val_accuracy: 0.9350 - val_loss: 0.1739\n",
      "Epoch 24/64\n",
      "\u001b[1m450/450\u001b[0m \u001b[32m━━━━━━━━━━━━━━━━━━━━\u001b[0m\u001b[37m\u001b[0m \u001b[1m1s\u001b[0m 2ms/step - accuracy: 0.9308 - loss: 0.1721 - val_accuracy: 0.9275 - val_loss: 0.1870\n",
      "Epoch 25/64\n",
      "\u001b[1m450/450\u001b[0m \u001b[32m━━━━━━━━━━━━━━━━━━━━\u001b[0m\u001b[37m\u001b[0m \u001b[1m1s\u001b[0m 2ms/step - accuracy: 0.9380 - loss: 0.1712 - val_accuracy: 0.9325 - val_loss: 0.1766\n",
      "Epoch 26/64\n",
      "\u001b[1m450/450\u001b[0m \u001b[32m━━━━━━━━━━━━━━━━━━━━\u001b[0m\u001b[37m\u001b[0m \u001b[1m1s\u001b[0m 2ms/step - accuracy: 0.9280 - loss: 0.1825 - val_accuracy: 0.9375 - val_loss: 0.1717\n",
      "Epoch 27/64\n",
      "\u001b[1m450/450\u001b[0m \u001b[32m━━━━━━━━━━━━━━━━━━━━\u001b[0m\u001b[37m\u001b[0m \u001b[1m1s\u001b[0m 2ms/step - accuracy: 0.9322 - loss: 0.1766 - val_accuracy: 0.9375 - val_loss: 0.1743\n",
      "Epoch 28/64\n",
      "\u001b[1m450/450\u001b[0m \u001b[32m━━━━━━━━━━━━━━━━━━━━\u001b[0m\u001b[37m\u001b[0m \u001b[1m1s\u001b[0m 2ms/step - accuracy: 0.9382 - loss: 0.1689 - val_accuracy: 0.9450 - val_loss: 0.1656\n",
      "Epoch 29/64\n",
      "\u001b[1m450/450\u001b[0m \u001b[32m━━━━━━━━━━━━━━━━━━━━\u001b[0m\u001b[37m\u001b[0m \u001b[1m1s\u001b[0m 2ms/step - accuracy: 0.9295 - loss: 0.1735 - val_accuracy: 0.9375 - val_loss: 0.1674\n",
      "Epoch 30/64\n",
      "\u001b[1m450/450\u001b[0m \u001b[32m━━━━━━━━━━━━━━━━━━━━\u001b[0m\u001b[37m\u001b[0m \u001b[1m1s\u001b[0m 2ms/step - accuracy: 0.9394 - loss: 0.1625 - val_accuracy: 0.9275 - val_loss: 0.1755\n",
      "Epoch 31/64\n",
      "\u001b[1m450/450\u001b[0m \u001b[32m━━━━━━━━━━━━━━━━━━━━\u001b[0m\u001b[37m\u001b[0m \u001b[1m1s\u001b[0m 2ms/step - accuracy: 0.9336 - loss: 0.1735 - val_accuracy: 0.9450 - val_loss: 0.1640\n",
      "Epoch 32/64\n",
      "\u001b[1m450/450\u001b[0m \u001b[32m━━━━━━━━━━━━━━━━━━━━\u001b[0m\u001b[37m\u001b[0m \u001b[1m1s\u001b[0m 2ms/step - accuracy: 0.9312 - loss: 0.1660 - val_accuracy: 0.9450 - val_loss: 0.1641\n",
      "Epoch 33/64\n",
      "\u001b[1m450/450\u001b[0m \u001b[32m━━━━━━━━━━━━━━━━━━━━\u001b[0m\u001b[37m\u001b[0m \u001b[1m1s\u001b[0m 2ms/step - accuracy: 0.9479 - loss: 0.1535 - val_accuracy: 0.9375 - val_loss: 0.1750\n",
      "Epoch 34/64\n",
      "\u001b[1m450/450\u001b[0m \u001b[32m━━━━━━━━━━━━━━━━━━━━\u001b[0m\u001b[37m\u001b[0m \u001b[1m1s\u001b[0m 2ms/step - accuracy: 0.9466 - loss: 0.1558 - val_accuracy: 0.9425 - val_loss: 0.1628\n",
      "Epoch 35/64\n",
      "\u001b[1m450/450\u001b[0m \u001b[32m━━━━━━━━━━━━━━━━━━━━\u001b[0m\u001b[37m\u001b[0m \u001b[1m1s\u001b[0m 2ms/step - accuracy: 0.9438 - loss: 0.1495 - val_accuracy: 0.9350 - val_loss: 0.1668\n",
      "Epoch 36/64\n",
      "\u001b[1m450/450\u001b[0m \u001b[32m━━━━━━━━━━━━━━━━━━━━\u001b[0m\u001b[37m\u001b[0m \u001b[1m1s\u001b[0m 2ms/step - accuracy: 0.9334 - loss: 0.1652 - val_accuracy: 0.9400 - val_loss: 0.1648\n",
      "Epoch 37/64\n",
      "\u001b[1m450/450\u001b[0m \u001b[32m━━━━━━━━━━━━━━━━━━━━\u001b[0m\u001b[37m\u001b[0m \u001b[1m1s\u001b[0m 2ms/step - accuracy: 0.9378 - loss: 0.1570 - val_accuracy: 0.9275 - val_loss: 0.1666\n",
      "Epoch 38/64\n",
      "\u001b[1m450/450\u001b[0m \u001b[32m━━━━━━━━━━━━━━━━━━━━\u001b[0m\u001b[37m\u001b[0m \u001b[1m1s\u001b[0m 2ms/step - accuracy: 0.9412 - loss: 0.1568 - val_accuracy: 0.9350 - val_loss: 0.1702\n",
      "Epoch 39/64\n",
      "\u001b[1m450/450\u001b[0m \u001b[32m━━━━━━━━━━━━━━━━━━━━\u001b[0m\u001b[37m\u001b[0m \u001b[1m1s\u001b[0m 2ms/step - accuracy: 0.9317 - loss: 0.1729 - val_accuracy: 0.9375 - val_loss: 0.1647\n",
      "Epoch 40/64\n",
      "\u001b[1m450/450\u001b[0m \u001b[32m━━━━━━━━━━━━━━━━━━━━\u001b[0m\u001b[37m\u001b[0m \u001b[1m1s\u001b[0m 2ms/step - accuracy: 0.9325 - loss: 0.1694 - val_accuracy: 0.9325 - val_loss: 0.1704\n",
      "Epoch 41/64\n",
      "\u001b[1m450/450\u001b[0m \u001b[32m━━━━━━━━━━━━━━━━━━━━\u001b[0m\u001b[37m\u001b[0m \u001b[1m1s\u001b[0m 2ms/step - accuracy: 0.9353 - loss: 0.1689 - val_accuracy: 0.9425 - val_loss: 0.1599\n",
      "Epoch 42/64\n",
      "\u001b[1m450/450\u001b[0m \u001b[32m━━━━━━━━━━━━━━━━━━━━\u001b[0m\u001b[37m\u001b[0m \u001b[1m1s\u001b[0m 2ms/step - accuracy: 0.9394 - loss: 0.1590 - val_accuracy: 0.9375 - val_loss: 0.1611\n",
      "Epoch 43/64\n",
      "\u001b[1m450/450\u001b[0m \u001b[32m━━━━━━━━━━━━━━━━━━━━\u001b[0m\u001b[37m\u001b[0m \u001b[1m1s\u001b[0m 2ms/step - accuracy: 0.9384 - loss: 0.1540 - val_accuracy: 0.9350 - val_loss: 0.1619\n",
      "Epoch 44/64\n",
      "\u001b[1m450/450\u001b[0m \u001b[32m━━━━━━━━━━━━━━━━━━━━\u001b[0m\u001b[37m\u001b[0m \u001b[1m1s\u001b[0m 2ms/step - accuracy: 0.9391 - loss: 0.1502 - val_accuracy: 0.9350 - val_loss: 0.1719\n",
      "Epoch 45/64\n",
      "\u001b[1m450/450\u001b[0m \u001b[32m━━━━━━━━━━━━━━━━━━━━\u001b[0m\u001b[37m\u001b[0m \u001b[1m1s\u001b[0m 2ms/step - accuracy: 0.9383 - loss: 0.1471 - val_accuracy: 0.9325 - val_loss: 0.1619\n",
      "Epoch 46/64\n",
      "\u001b[1m450/450\u001b[0m \u001b[32m━━━━━━━━━━━━━━━━━━━━\u001b[0m\u001b[37m\u001b[0m \u001b[1m1s\u001b[0m 2ms/step - accuracy: 0.9317 - loss: 0.1675 - val_accuracy: 0.9325 - val_loss: 0.1628\n",
      "Epoch 47/64\n",
      "\u001b[1m450/450\u001b[0m \u001b[32m━━━━━━━━━━━━━━━━━━━━\u001b[0m\u001b[37m\u001b[0m \u001b[1m1s\u001b[0m 2ms/step - accuracy: 0.9328 - loss: 0.1578 - val_accuracy: 0.9300 - val_loss: 0.1741\n",
      "Epoch 48/64\n",
      "\u001b[1m450/450\u001b[0m \u001b[32m━━━━━━━━━━━━━━━━━━━━\u001b[0m\u001b[37m\u001b[0m \u001b[1m1s\u001b[0m 2ms/step - accuracy: 0.9410 - loss: 0.1539 - val_accuracy: 0.9275 - val_loss: 0.1770\n",
      "Epoch 49/64\n",
      "\u001b[1m450/450\u001b[0m \u001b[32m━━━━━━━━━━━━━━━━━━━━\u001b[0m\u001b[37m\u001b[0m \u001b[1m1s\u001b[0m 2ms/step - accuracy: 0.9399 - loss: 0.1515 - val_accuracy: 0.9450 - val_loss: 0.1578\n",
      "Epoch 50/64\n",
      "\u001b[1m450/450\u001b[0m \u001b[32m━━━━━━━━━━━━━━━━━━━━\u001b[0m\u001b[37m\u001b[0m \u001b[1m1s\u001b[0m 2ms/step - accuracy: 0.9328 - loss: 0.1619 - val_accuracy: 0.9325 - val_loss: 0.1727\n",
      "Epoch 51/64\n",
      "\u001b[1m450/450\u001b[0m \u001b[32m━━━━━━━━━━━━━━━━━━━━\u001b[0m\u001b[37m\u001b[0m \u001b[1m1s\u001b[0m 2ms/step - accuracy: 0.9386 - loss: 0.1543 - val_accuracy: 0.9350 - val_loss: 0.1717\n",
      "Epoch 52/64\n",
      "\u001b[1m450/450\u001b[0m \u001b[32m━━━━━━━━━━━━━━━━━━━━\u001b[0m\u001b[37m\u001b[0m \u001b[1m1s\u001b[0m 2ms/step - accuracy: 0.9359 - loss: 0.1586 - val_accuracy: 0.9250 - val_loss: 0.1793\n",
      "Epoch 53/64\n",
      "\u001b[1m450/450\u001b[0m \u001b[32m━━━━━━━━━━━━━━━━━━━━\u001b[0m\u001b[37m\u001b[0m \u001b[1m1s\u001b[0m 2ms/step - accuracy: 0.9355 - loss: 0.1601 - val_accuracy: 0.9375 - val_loss: 0.1567\n",
      "Epoch 54/64\n",
      "\u001b[1m450/450\u001b[0m \u001b[32m━━━━━━━━━━━━━━━━━━━━\u001b[0m\u001b[37m\u001b[0m \u001b[1m1s\u001b[0m 1ms/step - accuracy: 0.9339 - loss: 0.1579 - val_accuracy: 0.9400 - val_loss: 0.1627\n",
      "Epoch 55/64\n",
      "\u001b[1m450/450\u001b[0m \u001b[32m━━━━━━━━━━━━━━━━━━━━\u001b[0m\u001b[37m\u001b[0m \u001b[1m1s\u001b[0m 2ms/step - accuracy: 0.9352 - loss: 0.1626 - val_accuracy: 0.9375 - val_loss: 0.1669\n",
      "Epoch 56/64\n",
      "\u001b[1m450/450\u001b[0m \u001b[32m━━━━━━━━━━━━━━━━━━━━\u001b[0m\u001b[37m\u001b[0m \u001b[1m1s\u001b[0m 2ms/step - accuracy: 0.9477 - loss: 0.1511 - val_accuracy: 0.9350 - val_loss: 0.1702\n",
      "Epoch 57/64\n",
      "\u001b[1m450/450\u001b[0m \u001b[32m━━━━━━━━━━━━━━━━━━━━\u001b[0m\u001b[37m\u001b[0m \u001b[1m1s\u001b[0m 2ms/step - accuracy: 0.9354 - loss: 0.1680 - val_accuracy: 0.9425 - val_loss: 0.1545\n",
      "Epoch 58/64\n",
      "\u001b[1m450/450\u001b[0m \u001b[32m━━━━━━━━━━━━━━━━━━━━\u001b[0m\u001b[37m\u001b[0m \u001b[1m1s\u001b[0m 2ms/step - accuracy: 0.9405 - loss: 0.1535 - val_accuracy: 0.9375 - val_loss: 0.1660\n",
      "Epoch 59/64\n",
      "\u001b[1m450/450\u001b[0m \u001b[32m━━━━━━━━━━━━━━━━━━━━\u001b[0m\u001b[37m\u001b[0m \u001b[1m1s\u001b[0m 2ms/step - accuracy: 0.9335 - loss: 0.1678 - val_accuracy: 0.9450 - val_loss: 0.1574\n",
      "Epoch 60/64\n",
      "\u001b[1m450/450\u001b[0m \u001b[32m━━━━━━━━━━━━━━━━━━━━\u001b[0m\u001b[37m\u001b[0m \u001b[1m1s\u001b[0m 2ms/step - accuracy: 0.9378 - loss: 0.1582 - val_accuracy: 0.9400 - val_loss: 0.1559\n",
      "Epoch 61/64\n",
      "\u001b[1m450/450\u001b[0m \u001b[32m━━━━━━━━━━━━━━━━━━━━\u001b[0m\u001b[37m\u001b[0m \u001b[1m1s\u001b[0m 2ms/step - accuracy: 0.9422 - loss: 0.1560 - val_accuracy: 0.9400 - val_loss: 0.1575\n",
      "Epoch 62/64\n",
      "\u001b[1m450/450\u001b[0m \u001b[32m━━━━━━━━━━━━━━━━━━━━\u001b[0m\u001b[37m\u001b[0m \u001b[1m1s\u001b[0m 2ms/step - accuracy: 0.9423 - loss: 0.1466 - val_accuracy: 0.9400 - val_loss: 0.1541\n",
      "Epoch 63/64\n",
      "\u001b[1m450/450\u001b[0m \u001b[32m━━━━━━━━━━━━━━━━━━━━\u001b[0m\u001b[37m\u001b[0m \u001b[1m1s\u001b[0m 2ms/step - accuracy: 0.9385 - loss: 0.1625 - val_accuracy: 0.9375 - val_loss: 0.1603\n",
      "Epoch 64/64\n",
      "\u001b[1m450/450\u001b[0m \u001b[32m━━━━━━━━━━━━━━━━━━━━\u001b[0m\u001b[37m\u001b[0m \u001b[1m1s\u001b[0m 1ms/step - accuracy: 0.9394 - loss: 0.1622 - val_accuracy: 0.9425 - val_loss: 0.1541\n"
     ]
    }
   ],
   "source": [
    "history_shallow = model_shallow.fit(\n",
    "    train_X, train_y, \n",
    "    validation_split=0.1, epochs=64, batch_size=8\n",
    ")"
   ]
  },
  {
   "cell_type": "code",
   "execution_count": 20,
   "metadata": {},
   "outputs": [
    {
     "name": "stdout",
     "output_type": "stream",
     "text": [
      "Epoch 1/64\n",
      "\u001b[1m450/450\u001b[0m \u001b[32m━━━━━━━━━━━━━━━━━━━━\u001b[0m\u001b[37m\u001b[0m \u001b[1m2s\u001b[0m 2ms/step - accuracy: 0.4621 - loss: 1.1059 - val_accuracy: 0.8775 - val_loss: 0.4973\n",
      "Epoch 2/64\n",
      "\u001b[1m450/450\u001b[0m \u001b[32m━━━━━━━━━━━━━━━━━━━━\u001b[0m\u001b[37m\u001b[0m \u001b[1m1s\u001b[0m 2ms/step - accuracy: 0.8824 - loss: 0.4629 - val_accuracy: 0.9200 - val_loss: 0.3156\n",
      "Epoch 3/64\n",
      "\u001b[1m450/450\u001b[0m \u001b[32m━━━━━━━━━━━━━━━━━━━━\u001b[0m\u001b[37m\u001b[0m \u001b[1m1s\u001b[0m 2ms/step - accuracy: 0.9192 - loss: 0.2969 - val_accuracy: 0.9250 - val_loss: 0.2283\n",
      "Epoch 4/64\n",
      "\u001b[1m450/450\u001b[0m \u001b[32m━━━━━━━━━━━━━━━━━━━━\u001b[0m\u001b[37m\u001b[0m \u001b[1m1s\u001b[0m 2ms/step - accuracy: 0.9215 - loss: 0.2338 - val_accuracy: 0.9250 - val_loss: 0.1987\n",
      "Epoch 5/64\n",
      "\u001b[1m450/450\u001b[0m \u001b[32m━━━━━━━━━━━━━━━━━━━━\u001b[0m\u001b[37m\u001b[0m \u001b[1m1s\u001b[0m 2ms/step - accuracy: 0.9281 - loss: 0.1937 - val_accuracy: 0.9300 - val_loss: 0.1858\n",
      "Epoch 6/64\n",
      "\u001b[1m450/450\u001b[0m \u001b[32m━━━━━━━━━━━━━━━━━━━━\u001b[0m\u001b[37m\u001b[0m \u001b[1m1s\u001b[0m 2ms/step - accuracy: 0.9285 - loss: 0.1950 - val_accuracy: 0.9400 - val_loss: 0.1713\n",
      "Epoch 7/64\n",
      "\u001b[1m450/450\u001b[0m \u001b[32m━━━━━━━━━━━━━━━━━━━━\u001b[0m\u001b[37m\u001b[0m \u001b[1m1s\u001b[0m 2ms/step - accuracy: 0.9246 - loss: 0.2055 - val_accuracy: 0.9400 - val_loss: 0.1651\n",
      "Epoch 8/64\n",
      "\u001b[1m450/450\u001b[0m \u001b[32m━━━━━━━━━━━━━━━━━━━━\u001b[0m\u001b[37m\u001b[0m \u001b[1m1s\u001b[0m 2ms/step - accuracy: 0.9325 - loss: 0.1805 - val_accuracy: 0.9425 - val_loss: 0.1602\n",
      "Epoch 9/64\n",
      "\u001b[1m450/450\u001b[0m \u001b[32m━━━━━━━━━━━━━━━━━━━━\u001b[0m\u001b[37m\u001b[0m \u001b[1m1s\u001b[0m 2ms/step - accuracy: 0.9327 - loss: 0.1795 - val_accuracy: 0.9325 - val_loss: 0.1709\n",
      "Epoch 10/64\n",
      "\u001b[1m450/450\u001b[0m \u001b[32m━━━━━━━━━━━━━━━━━━━━\u001b[0m\u001b[37m\u001b[0m \u001b[1m1s\u001b[0m 2ms/step - accuracy: 0.9317 - loss: 0.1752 - val_accuracy: 0.9375 - val_loss: 0.1663\n",
      "Epoch 11/64\n",
      "\u001b[1m450/450\u001b[0m \u001b[32m━━━━━━━━━━━━━━━━━━━━\u001b[0m\u001b[37m\u001b[0m \u001b[1m1s\u001b[0m 2ms/step - accuracy: 0.9328 - loss: 0.1783 - val_accuracy: 0.9350 - val_loss: 0.1723\n",
      "Epoch 12/64\n",
      "\u001b[1m450/450\u001b[0m \u001b[32m━━━━━━━━━━━━━━━━━━━━\u001b[0m\u001b[37m\u001b[0m \u001b[1m1s\u001b[0m 2ms/step - accuracy: 0.9324 - loss: 0.1827 - val_accuracy: 0.9250 - val_loss: 0.1778\n",
      "Epoch 13/64\n",
      "\u001b[1m450/450\u001b[0m \u001b[32m━━━━━━━━━━━━━━━━━━━━\u001b[0m\u001b[37m\u001b[0m \u001b[1m1s\u001b[0m 2ms/step - accuracy: 0.9316 - loss: 0.1633 - val_accuracy: 0.9375 - val_loss: 0.1561\n",
      "Epoch 14/64\n",
      "\u001b[1m450/450\u001b[0m \u001b[32m━━━━━━━━━━━━━━━━━━━━\u001b[0m\u001b[37m\u001b[0m \u001b[1m1s\u001b[0m 2ms/step - accuracy: 0.9335 - loss: 0.1672 - val_accuracy: 0.9400 - val_loss: 0.1559\n",
      "Epoch 15/64\n",
      "\u001b[1m450/450\u001b[0m \u001b[32m━━━━━━━━━━━━━━━━━━━━\u001b[0m\u001b[37m\u001b[0m \u001b[1m1s\u001b[0m 2ms/step - accuracy: 0.9432 - loss: 0.1521 - val_accuracy: 0.9325 - val_loss: 0.1758\n",
      "Epoch 16/64\n",
      "\u001b[1m450/450\u001b[0m \u001b[32m━━━━━━━━━━━━━━━━━━━━\u001b[0m\u001b[37m\u001b[0m \u001b[1m1s\u001b[0m 2ms/step - accuracy: 0.9350 - loss: 0.1639 - val_accuracy: 0.9400 - val_loss: 0.1609\n",
      "Epoch 17/64\n",
      "\u001b[1m450/450\u001b[0m \u001b[32m━━━━━━━━━━━━━━━━━━━━\u001b[0m\u001b[37m\u001b[0m \u001b[1m1s\u001b[0m 2ms/step - accuracy: 0.9328 - loss: 0.1708 - val_accuracy: 0.9400 - val_loss: 0.1579\n",
      "Epoch 18/64\n",
      "\u001b[1m450/450\u001b[0m \u001b[32m━━━━━━━━━━━━━━━━━━━━\u001b[0m\u001b[37m\u001b[0m \u001b[1m1s\u001b[0m 2ms/step - accuracy: 0.9366 - loss: 0.1634 - val_accuracy: 0.9375 - val_loss: 0.1554\n",
      "Epoch 19/64\n",
      "\u001b[1m450/450\u001b[0m \u001b[32m━━━━━━━━━━━━━━━━━━━━\u001b[0m\u001b[37m\u001b[0m \u001b[1m1s\u001b[0m 2ms/step - accuracy: 0.9264 - loss: 0.1907 - val_accuracy: 0.9375 - val_loss: 0.1510\n",
      "Epoch 20/64\n",
      "\u001b[1m450/450\u001b[0m \u001b[32m━━━━━━━━━━━━━━━━━━━━\u001b[0m\u001b[37m\u001b[0m \u001b[1m1s\u001b[0m 2ms/step - accuracy: 0.9417 - loss: 0.1594 - val_accuracy: 0.9425 - val_loss: 0.1503\n",
      "Epoch 21/64\n",
      "\u001b[1m450/450\u001b[0m \u001b[32m━━━━━━━━━━━━━━━━━━━━\u001b[0m\u001b[37m\u001b[0m \u001b[1m1s\u001b[0m 2ms/step - accuracy: 0.9243 - loss: 0.1844 - val_accuracy: 0.9400 - val_loss: 0.1500\n",
      "Epoch 22/64\n",
      "\u001b[1m450/450\u001b[0m \u001b[32m━━━━━━━━━━━━━━━━━━━━\u001b[0m\u001b[37m\u001b[0m \u001b[1m1s\u001b[0m 2ms/step - accuracy: 0.9325 - loss: 0.1615 - val_accuracy: 0.9275 - val_loss: 0.1691\n",
      "Epoch 23/64\n",
      "\u001b[1m450/450\u001b[0m \u001b[32m━━━━━━━━━━━━━━━━━━━━\u001b[0m\u001b[37m\u001b[0m \u001b[1m1s\u001b[0m 2ms/step - accuracy: 0.9328 - loss: 0.1621 - val_accuracy: 0.9350 - val_loss: 0.1721\n",
      "Epoch 24/64\n",
      "\u001b[1m450/450\u001b[0m \u001b[32m━━━━━━━━━━━━━━━━━━━━\u001b[0m\u001b[37m\u001b[0m \u001b[1m1s\u001b[0m 2ms/step - accuracy: 0.9354 - loss: 0.1602 - val_accuracy: 0.9375 - val_loss: 0.1508\n",
      "Epoch 25/64\n",
      "\u001b[1m450/450\u001b[0m \u001b[32m━━━━━━━━━━━━━━━━━━━━\u001b[0m\u001b[37m\u001b[0m \u001b[1m1s\u001b[0m 2ms/step - accuracy: 0.9506 - loss: 0.1358 - val_accuracy: 0.9400 - val_loss: 0.1540\n",
      "Epoch 26/64\n",
      "\u001b[1m450/450\u001b[0m \u001b[32m━━━━━━━━━━━━━━━━━━━━\u001b[0m\u001b[37m\u001b[0m \u001b[1m1s\u001b[0m 2ms/step - accuracy: 0.9376 - loss: 0.1570 - val_accuracy: 0.9400 - val_loss: 0.1526\n",
      "Epoch 27/64\n",
      "\u001b[1m450/450\u001b[0m \u001b[32m━━━━━━━━━━━━━━━━━━━━\u001b[0m\u001b[37m\u001b[0m \u001b[1m1s\u001b[0m 2ms/step - accuracy: 0.9343 - loss: 0.1644 - val_accuracy: 0.9325 - val_loss: 0.1596\n",
      "Epoch 28/64\n",
      "\u001b[1m450/450\u001b[0m \u001b[32m━━━━━━━━━━━━━━━━━━━━\u001b[0m\u001b[37m\u001b[0m \u001b[1m1s\u001b[0m 2ms/step - accuracy: 0.9455 - loss: 0.1430 - val_accuracy: 0.9275 - val_loss: 0.1805\n",
      "Epoch 29/64\n",
      "\u001b[1m450/450\u001b[0m \u001b[32m━━━━━━━━━━━━━━━━━━━━\u001b[0m\u001b[37m\u001b[0m \u001b[1m1s\u001b[0m 2ms/step - accuracy: 0.9345 - loss: 0.1728 - val_accuracy: 0.9425 - val_loss: 0.1577\n",
      "Epoch 30/64\n",
      "\u001b[1m450/450\u001b[0m \u001b[32m━━━━━━━━━━━━━━━━━━━━\u001b[0m\u001b[37m\u001b[0m \u001b[1m1s\u001b[0m 2ms/step - accuracy: 0.9269 - loss: 0.1870 - val_accuracy: 0.9425 - val_loss: 0.1636\n",
      "Epoch 31/64\n",
      "\u001b[1m450/450\u001b[0m \u001b[32m━━━━━━━━━━━━━━━━━━━━\u001b[0m\u001b[37m\u001b[0m \u001b[1m1s\u001b[0m 2ms/step - accuracy: 0.9414 - loss: 0.1535 - val_accuracy: 0.9375 - val_loss: 0.1565\n",
      "Epoch 32/64\n",
      "\u001b[1m450/450\u001b[0m \u001b[32m━━━━━━━━━━━━━━━━━━━━\u001b[0m\u001b[37m\u001b[0m \u001b[1m1s\u001b[0m 2ms/step - accuracy: 0.9392 - loss: 0.1571 - val_accuracy: 0.9350 - val_loss: 0.1573\n",
      "Epoch 33/64\n",
      "\u001b[1m450/450\u001b[0m \u001b[32m━━━━━━━━━━━━━━━━━━━━\u001b[0m\u001b[37m\u001b[0m \u001b[1m1s\u001b[0m 2ms/step - accuracy: 0.9363 - loss: 0.1637 - val_accuracy: 0.9350 - val_loss: 0.1646\n",
      "Epoch 34/64\n",
      "\u001b[1m450/450\u001b[0m \u001b[32m━━━━━━━━━━━━━━━━━━━━\u001b[0m\u001b[37m\u001b[0m \u001b[1m1s\u001b[0m 2ms/step - accuracy: 0.9357 - loss: 0.1606 - val_accuracy: 0.9375 - val_loss: 0.1504\n",
      "Epoch 35/64\n",
      "\u001b[1m450/450\u001b[0m \u001b[32m━━━━━━━━━━━━━━━━━━━━\u001b[0m\u001b[37m\u001b[0m \u001b[1m1s\u001b[0m 2ms/step - accuracy: 0.9381 - loss: 0.1655 - val_accuracy: 0.9375 - val_loss: 0.1490\n",
      "Epoch 36/64\n",
      "\u001b[1m450/450\u001b[0m \u001b[32m━━━━━━━━━━━━━━━━━━━━\u001b[0m\u001b[37m\u001b[0m \u001b[1m1s\u001b[0m 2ms/step - accuracy: 0.9365 - loss: 0.1604 - val_accuracy: 0.9375 - val_loss: 0.1505\n",
      "Epoch 37/64\n",
      "\u001b[1m450/450\u001b[0m \u001b[32m━━━━━━━━━━━━━━━━━━━━\u001b[0m\u001b[37m\u001b[0m \u001b[1m1s\u001b[0m 2ms/step - accuracy: 0.9400 - loss: 0.1497 - val_accuracy: 0.9400 - val_loss: 0.1518\n",
      "Epoch 38/64\n",
      "\u001b[1m450/450\u001b[0m \u001b[32m━━━━━━━━━━━━━━━━━━━━\u001b[0m\u001b[37m\u001b[0m \u001b[1m1s\u001b[0m 2ms/step - accuracy: 0.9332 - loss: 0.1625 - val_accuracy: 0.9400 - val_loss: 0.1565\n",
      "Epoch 39/64\n",
      "\u001b[1m450/450\u001b[0m \u001b[32m━━━━━━━━━━━━━━━━━━━━\u001b[0m\u001b[37m\u001b[0m \u001b[1m1s\u001b[0m 2ms/step - accuracy: 0.9478 - loss: 0.1476 - val_accuracy: 0.9400 - val_loss: 0.1486\n",
      "Epoch 40/64\n",
      "\u001b[1m450/450\u001b[0m \u001b[32m━━━━━━━━━━━━━━━━━━━━\u001b[0m\u001b[37m\u001b[0m \u001b[1m1s\u001b[0m 2ms/step - accuracy: 0.9358 - loss: 0.1628 - val_accuracy: 0.9325 - val_loss: 0.1597\n",
      "Epoch 41/64\n",
      "\u001b[1m450/450\u001b[0m \u001b[32m━━━━━━━━━━━━━━━━━━━━\u001b[0m\u001b[37m\u001b[0m \u001b[1m1s\u001b[0m 2ms/step - accuracy: 0.9420 - loss: 0.1614 - val_accuracy: 0.9375 - val_loss: 0.1604\n",
      "Epoch 42/64\n",
      "\u001b[1m450/450\u001b[0m \u001b[32m━━━━━━━━━━━━━━━━━━━━\u001b[0m\u001b[37m\u001b[0m \u001b[1m1s\u001b[0m 2ms/step - accuracy: 0.9425 - loss: 0.1546 - val_accuracy: 0.9325 - val_loss: 0.1550\n",
      "Epoch 43/64\n",
      "\u001b[1m450/450\u001b[0m \u001b[32m━━━━━━━━━━━━━━━━━━━━\u001b[0m\u001b[37m\u001b[0m \u001b[1m1s\u001b[0m 2ms/step - accuracy: 0.9350 - loss: 0.1606 - val_accuracy: 0.9350 - val_loss: 0.1499\n",
      "Epoch 44/64\n",
      "\u001b[1m450/450\u001b[0m \u001b[32m━━━━━━━━━━━━━━━━━━━━\u001b[0m\u001b[37m\u001b[0m \u001b[1m1s\u001b[0m 2ms/step - accuracy: 0.9374 - loss: 0.1614 - val_accuracy: 0.9350 - val_loss: 0.1482\n",
      "Epoch 45/64\n",
      "\u001b[1m450/450\u001b[0m \u001b[32m━━━━━━━━━━━━━━━━━━━━\u001b[0m\u001b[37m\u001b[0m \u001b[1m1s\u001b[0m 2ms/step - accuracy: 0.9385 - loss: 0.1608 - val_accuracy: 0.9375 - val_loss: 0.1545\n",
      "Epoch 46/64\n",
      "\u001b[1m450/450\u001b[0m \u001b[32m━━━━━━━━━━━━━━━━━━━━\u001b[0m\u001b[37m\u001b[0m \u001b[1m1s\u001b[0m 2ms/step - accuracy: 0.9347 - loss: 0.1567 - val_accuracy: 0.9375 - val_loss: 0.1597\n",
      "Epoch 47/64\n",
      "\u001b[1m450/450\u001b[0m \u001b[32m━━━━━━━━━━━━━━━━━━━━\u001b[0m\u001b[37m\u001b[0m \u001b[1m1s\u001b[0m 2ms/step - accuracy: 0.9391 - loss: 0.1652 - val_accuracy: 0.9375 - val_loss: 0.1570\n",
      "Epoch 48/64\n",
      "\u001b[1m450/450\u001b[0m \u001b[32m━━━━━━━━━━━━━━━━━━━━\u001b[0m\u001b[37m\u001b[0m \u001b[1m1s\u001b[0m 2ms/step - accuracy: 0.9386 - loss: 0.1580 - val_accuracy: 0.9400 - val_loss: 0.1484\n",
      "Epoch 49/64\n",
      "\u001b[1m450/450\u001b[0m \u001b[32m━━━━━━━━━━━━━━━━━━━━\u001b[0m\u001b[37m\u001b[0m \u001b[1m1s\u001b[0m 2ms/step - accuracy: 0.9341 - loss: 0.1623 - val_accuracy: 0.9325 - val_loss: 0.1643\n",
      "Epoch 50/64\n",
      "\u001b[1m450/450\u001b[0m \u001b[32m━━━━━━━━━━━━━━━━━━━━\u001b[0m\u001b[37m\u001b[0m \u001b[1m1s\u001b[0m 2ms/step - accuracy: 0.9289 - loss: 0.1768 - val_accuracy: 0.9375 - val_loss: 0.1535\n",
      "Epoch 51/64\n",
      "\u001b[1m450/450\u001b[0m \u001b[32m━━━━━━━━━━━━━━━━━━━━\u001b[0m\u001b[37m\u001b[0m \u001b[1m1s\u001b[0m 2ms/step - accuracy: 0.9309 - loss: 0.1675 - val_accuracy: 0.9275 - val_loss: 0.1683\n",
      "Epoch 52/64\n",
      "\u001b[1m450/450\u001b[0m \u001b[32m━━━━━━━━━━━━━━━━━━━━\u001b[0m\u001b[37m\u001b[0m \u001b[1m1s\u001b[0m 2ms/step - accuracy: 0.9419 - loss: 0.1498 - val_accuracy: 0.9375 - val_loss: 0.1511\n",
      "Epoch 53/64\n",
      "\u001b[1m450/450\u001b[0m \u001b[32m━━━━━━━━━━━━━━━━━━━━\u001b[0m\u001b[37m\u001b[0m \u001b[1m1s\u001b[0m 2ms/step - accuracy: 0.9353 - loss: 0.1561 - val_accuracy: 0.9400 - val_loss: 0.1515\n",
      "Epoch 54/64\n",
      "\u001b[1m450/450\u001b[0m \u001b[32m━━━━━━━━━━━━━━━━━━━━\u001b[0m\u001b[37m\u001b[0m \u001b[1m1s\u001b[0m 2ms/step - accuracy: 0.9309 - loss: 0.1700 - val_accuracy: 0.9375 - val_loss: 0.1542\n",
      "Epoch 55/64\n",
      "\u001b[1m450/450\u001b[0m \u001b[32m━━━━━━━━━━━━━━━━━━━━\u001b[0m\u001b[37m\u001b[0m \u001b[1m1s\u001b[0m 2ms/step - accuracy: 0.9375 - loss: 0.1645 - val_accuracy: 0.9375 - val_loss: 0.1529\n",
      "Epoch 56/64\n",
      "\u001b[1m450/450\u001b[0m \u001b[32m━━━━━━━━━━━━━━━━━━━━\u001b[0m\u001b[37m\u001b[0m \u001b[1m1s\u001b[0m 2ms/step - accuracy: 0.9326 - loss: 0.1635 - val_accuracy: 0.9350 - val_loss: 0.1637\n",
      "Epoch 57/64\n",
      "\u001b[1m450/450\u001b[0m \u001b[32m━━━━━━━━━━━━━━━━━━━━\u001b[0m\u001b[37m\u001b[0m \u001b[1m1s\u001b[0m 2ms/step - accuracy: 0.9331 - loss: 0.1672 - val_accuracy: 0.9300 - val_loss: 0.1682\n",
      "Epoch 58/64\n",
      "\u001b[1m450/450\u001b[0m \u001b[32m━━━━━━━━━━━━━━━━━━━━\u001b[0m\u001b[37m\u001b[0m \u001b[1m1s\u001b[0m 2ms/step - accuracy: 0.9402 - loss: 0.1520 - val_accuracy: 0.9425 - val_loss: 0.1621\n",
      "Epoch 59/64\n",
      "\u001b[1m450/450\u001b[0m \u001b[32m━━━━━━━━━━━━━━━━━━━━\u001b[0m\u001b[37m\u001b[0m \u001b[1m1s\u001b[0m 2ms/step - accuracy: 0.9309 - loss: 0.1778 - val_accuracy: 0.9375 - val_loss: 0.1557\n",
      "Epoch 60/64\n",
      "\u001b[1m450/450\u001b[0m \u001b[32m━━━━━━━━━━━━━━━━━━━━\u001b[0m\u001b[37m\u001b[0m \u001b[1m1s\u001b[0m 2ms/step - accuracy: 0.9407 - loss: 0.1508 - val_accuracy: 0.9350 - val_loss: 0.1562\n",
      "Epoch 61/64\n",
      "\u001b[1m450/450\u001b[0m \u001b[32m━━━━━━━━━━━━━━━━━━━━\u001b[0m\u001b[37m\u001b[0m \u001b[1m1s\u001b[0m 2ms/step - accuracy: 0.9374 - loss: 0.1526 - val_accuracy: 0.9450 - val_loss: 0.1518\n",
      "Epoch 62/64\n",
      "\u001b[1m450/450\u001b[0m \u001b[32m━━━━━━━━━━━━━━━━━━━━\u001b[0m\u001b[37m\u001b[0m \u001b[1m1s\u001b[0m 2ms/step - accuracy: 0.9379 - loss: 0.1574 - val_accuracy: 0.9400 - val_loss: 0.1528\n",
      "Epoch 63/64\n",
      "\u001b[1m450/450\u001b[0m \u001b[32m━━━━━━━━━━━━━━━━━━━━\u001b[0m\u001b[37m\u001b[0m \u001b[1m1s\u001b[0m 2ms/step - accuracy: 0.9240 - loss: 0.1762 - val_accuracy: 0.9350 - val_loss: 0.1615\n",
      "Epoch 64/64\n",
      "\u001b[1m450/450\u001b[0m \u001b[32m━━━━━━━━━━━━━━━━━━━━\u001b[0m\u001b[37m\u001b[0m \u001b[1m1s\u001b[0m 2ms/step - accuracy: 0.9317 - loss: 0.1764 - val_accuracy: 0.9375 - val_loss: 0.1506\n"
     ]
    }
   ],
   "source": [
    "history_medium = model_medium.fit(\n",
    "    train_X, train_y, \n",
    "    validation_split=0.1, epochs=64, batch_size=8\n",
    ")"
   ]
  },
  {
   "cell_type": "code",
   "execution_count": 21,
   "metadata": {},
   "outputs": [
    {
     "name": "stdout",
     "output_type": "stream",
     "text": [
      "Epoch 1/64\n",
      "\u001b[1m450/450\u001b[0m \u001b[32m━━━━━━━━━━━━━━━━━━━━\u001b[0m\u001b[37m\u001b[0m \u001b[1m2s\u001b[0m 2ms/step - accuracy: 0.5058 - loss: 1.0311 - val_accuracy: 0.8625 - val_loss: 0.4392\n",
      "Epoch 2/64\n",
      "\u001b[1m450/450\u001b[0m \u001b[32m━━━━━━━━━━━━━━━━━━━━\u001b[0m\u001b[37m\u001b[0m \u001b[1m1s\u001b[0m 2ms/step - accuracy: 0.8359 - loss: 0.3863 - val_accuracy: 0.8300 - val_loss: 0.3290\n",
      "Epoch 3/64\n",
      "\u001b[1m450/450\u001b[0m \u001b[32m━━━━━━━━━━━━━━━━━━━━\u001b[0m\u001b[37m\u001b[0m \u001b[1m1s\u001b[0m 2ms/step - accuracy: 0.8557 - loss: 0.2953 - val_accuracy: 0.9225 - val_loss: 0.2488\n",
      "Epoch 4/64\n",
      "\u001b[1m450/450\u001b[0m \u001b[32m━━━━━━━━━━━━━━━━━━━━\u001b[0m\u001b[37m\u001b[0m \u001b[1m1s\u001b[0m 2ms/step - accuracy: 0.9189 - loss: 0.2365 - val_accuracy: 0.9300 - val_loss: 0.2030\n",
      "Epoch 5/64\n",
      "\u001b[1m450/450\u001b[0m \u001b[32m━━━━━━━━━━━━━━━━━━━━\u001b[0m\u001b[37m\u001b[0m \u001b[1m1s\u001b[0m 2ms/step - accuracy: 0.9177 - loss: 0.2181 - val_accuracy: 0.9275 - val_loss: 0.1989\n",
      "Epoch 6/64\n",
      "\u001b[1m450/450\u001b[0m \u001b[32m━━━━━━━━━━━━━━━━━━━━\u001b[0m\u001b[37m\u001b[0m \u001b[1m1s\u001b[0m 2ms/step - accuracy: 0.9149 - loss: 0.2153 - val_accuracy: 0.9350 - val_loss: 0.1784\n",
      "Epoch 7/64\n",
      "\u001b[1m450/450\u001b[0m \u001b[32m━━━━━━━━━━━━━━━━━━━━\u001b[0m\u001b[37m\u001b[0m \u001b[1m1s\u001b[0m 2ms/step - accuracy: 0.9265 - loss: 0.1993 - val_accuracy: 0.9250 - val_loss: 0.1994\n",
      "Epoch 8/64\n",
      "\u001b[1m450/450\u001b[0m \u001b[32m━━━━━━━━━━━━━━━━━━━━\u001b[0m\u001b[37m\u001b[0m \u001b[1m1s\u001b[0m 2ms/step - accuracy: 0.9281 - loss: 0.1922 - val_accuracy: 0.9375 - val_loss: 0.1745\n",
      "Epoch 9/64\n",
      "\u001b[1m450/450\u001b[0m \u001b[32m━━━━━━━━━━━━━━━━━━━━\u001b[0m\u001b[37m\u001b[0m \u001b[1m1s\u001b[0m 2ms/step - accuracy: 0.9362 - loss: 0.1813 - val_accuracy: 0.9300 - val_loss: 0.1952\n",
      "Epoch 10/64\n",
      "\u001b[1m450/450\u001b[0m \u001b[32m━━━━━━━━━━━━━━━━━━━━\u001b[0m\u001b[37m\u001b[0m \u001b[1m1s\u001b[0m 2ms/step - accuracy: 0.9203 - loss: 0.2123 - val_accuracy: 0.9375 - val_loss: 0.1873\n",
      "Epoch 11/64\n",
      "\u001b[1m450/450\u001b[0m \u001b[32m━━━━━━━━━━━━━━━━━━━━\u001b[0m\u001b[37m\u001b[0m \u001b[1m1s\u001b[0m 2ms/step - accuracy: 0.9248 - loss: 0.1912 - val_accuracy: 0.9375 - val_loss: 0.1760\n",
      "Epoch 12/64\n",
      "\u001b[1m450/450\u001b[0m \u001b[32m━━━━━━━━━━━━━━━━━━━━\u001b[0m\u001b[37m\u001b[0m \u001b[1m1s\u001b[0m 2ms/step - accuracy: 0.9300 - loss: 0.1885 - val_accuracy: 0.9275 - val_loss: 0.1906\n",
      "Epoch 13/64\n",
      "\u001b[1m450/450\u001b[0m \u001b[32m━━━━━━━━━━━━━━━━━━━━\u001b[0m\u001b[37m\u001b[0m \u001b[1m1s\u001b[0m 2ms/step - accuracy: 0.9346 - loss: 0.1745 - val_accuracy: 0.9200 - val_loss: 0.2351\n",
      "Epoch 14/64\n",
      "\u001b[1m450/450\u001b[0m \u001b[32m━━━━━━━━━━━━━━━━━━━━\u001b[0m\u001b[37m\u001b[0m \u001b[1m1s\u001b[0m 2ms/step - accuracy: 0.9252 - loss: 0.1982 - val_accuracy: 0.9225 - val_loss: 0.2138\n",
      "Epoch 15/64\n",
      "\u001b[1m450/450\u001b[0m \u001b[32m━━━━━━━━━━━━━━━━━━━━\u001b[0m\u001b[37m\u001b[0m \u001b[1m1s\u001b[0m 2ms/step - accuracy: 0.9296 - loss: 0.1908 - val_accuracy: 0.9225 - val_loss: 0.1806\n",
      "Epoch 16/64\n",
      "\u001b[1m450/450\u001b[0m \u001b[32m━━━━━━━━━━━━━━━━━━━━\u001b[0m\u001b[37m\u001b[0m \u001b[1m1s\u001b[0m 2ms/step - accuracy: 0.9253 - loss: 0.1942 - val_accuracy: 0.9375 - val_loss: 0.1578\n",
      "Epoch 17/64\n",
      "\u001b[1m450/450\u001b[0m \u001b[32m━━━━━━━━━━━━━━━━━━━━\u001b[0m\u001b[37m\u001b[0m \u001b[1m1s\u001b[0m 2ms/step - accuracy: 0.9389 - loss: 0.1656 - val_accuracy: 0.9275 - val_loss: 0.1730\n",
      "Epoch 18/64\n",
      "\u001b[1m450/450\u001b[0m \u001b[32m━━━━━━━━━━━━━━━━━━━━\u001b[0m\u001b[37m\u001b[0m \u001b[1m1s\u001b[0m 2ms/step - accuracy: 0.9308 - loss: 0.1849 - val_accuracy: 0.9250 - val_loss: 0.2006\n",
      "Epoch 19/64\n",
      "\u001b[1m450/450\u001b[0m \u001b[32m━━━━━━━━━━━━━━━━━━━━\u001b[0m\u001b[37m\u001b[0m \u001b[1m1s\u001b[0m 2ms/step - accuracy: 0.9292 - loss: 0.1878 - val_accuracy: 0.9275 - val_loss: 0.1768\n",
      "Epoch 20/64\n",
      "\u001b[1m450/450\u001b[0m \u001b[32m━━━━━━━━━━━━━━━━━━━━\u001b[0m\u001b[37m\u001b[0m \u001b[1m1s\u001b[0m 2ms/step - accuracy: 0.9309 - loss: 0.1787 - val_accuracy: 0.9175 - val_loss: 0.2157\n",
      "Epoch 21/64\n",
      "\u001b[1m450/450\u001b[0m \u001b[32m━━━━━━━━━━━━━━━━━━━━\u001b[0m\u001b[37m\u001b[0m \u001b[1m1s\u001b[0m 2ms/step - accuracy: 0.9291 - loss: 0.1801 - val_accuracy: 0.9350 - val_loss: 0.1556\n",
      "Epoch 22/64\n",
      "\u001b[1m450/450\u001b[0m \u001b[32m━━━━━━━━━━━━━━━━━━━━\u001b[0m\u001b[37m\u001b[0m \u001b[1m1s\u001b[0m 2ms/step - accuracy: 0.9295 - loss: 0.1653 - val_accuracy: 0.9250 - val_loss: 0.1664\n",
      "Epoch 23/64\n",
      "\u001b[1m450/450\u001b[0m \u001b[32m━━━━━━━━━━━━━━━━━━━━\u001b[0m\u001b[37m\u001b[0m \u001b[1m1s\u001b[0m 2ms/step - accuracy: 0.9379 - loss: 0.1659 - val_accuracy: 0.9425 - val_loss: 0.1626\n",
      "Epoch 24/64\n",
      "\u001b[1m450/450\u001b[0m \u001b[32m━━━━━━━━━━━━━━━━━━━━\u001b[0m\u001b[37m\u001b[0m \u001b[1m1s\u001b[0m 2ms/step - accuracy: 0.9331 - loss: 0.1701 - val_accuracy: 0.9400 - val_loss: 0.1656\n",
      "Epoch 25/64\n",
      "\u001b[1m450/450\u001b[0m \u001b[32m━━━━━━━━━━━━━━━━━━━━\u001b[0m\u001b[37m\u001b[0m \u001b[1m1s\u001b[0m 2ms/step - accuracy: 0.9310 - loss: 0.1765 - val_accuracy: 0.9325 - val_loss: 0.1989\n",
      "Epoch 26/64\n",
      "\u001b[1m450/450\u001b[0m \u001b[32m━━━━━━━━━━━━━━━━━━━━\u001b[0m\u001b[37m\u001b[0m \u001b[1m1s\u001b[0m 2ms/step - accuracy: 0.9283 - loss: 0.1754 - val_accuracy: 0.9250 - val_loss: 0.1956\n",
      "Epoch 27/64\n",
      "\u001b[1m450/450\u001b[0m \u001b[32m━━━━━━━━━━━━━━━━━━━━\u001b[0m\u001b[37m\u001b[0m \u001b[1m1s\u001b[0m 2ms/step - accuracy: 0.9351 - loss: 0.1764 - val_accuracy: 0.9325 - val_loss: 0.1758\n",
      "Epoch 28/64\n",
      "\u001b[1m450/450\u001b[0m \u001b[32m━━━━━━━━━━━━━━━━━━━━\u001b[0m\u001b[37m\u001b[0m \u001b[1m1s\u001b[0m 2ms/step - accuracy: 0.9344 - loss: 0.1681 - val_accuracy: 0.9450 - val_loss: 0.1669\n",
      "Epoch 29/64\n",
      "\u001b[1m450/450\u001b[0m \u001b[32m━━━━━━━━━━━━━━━━━━━━\u001b[0m\u001b[37m\u001b[0m \u001b[1m1s\u001b[0m 2ms/step - accuracy: 0.9360 - loss: 0.1646 - val_accuracy: 0.9425 - val_loss: 0.1837\n",
      "Epoch 30/64\n",
      "\u001b[1m450/450\u001b[0m \u001b[32m━━━━━━━━━━━━━━━━━━━━\u001b[0m\u001b[37m\u001b[0m \u001b[1m1s\u001b[0m 2ms/step - accuracy: 0.9347 - loss: 0.1757 - val_accuracy: 0.9400 - val_loss: 0.1609\n",
      "Epoch 31/64\n",
      "\u001b[1m450/450\u001b[0m \u001b[32m━━━━━━━━━━━━━━━━━━━━\u001b[0m\u001b[37m\u001b[0m \u001b[1m1s\u001b[0m 2ms/step - accuracy: 0.9322 - loss: 0.1689 - val_accuracy: 0.9175 - val_loss: 0.2395\n",
      "Epoch 32/64\n",
      "\u001b[1m450/450\u001b[0m \u001b[32m━━━━━━━━━━━━━━━━━━━━\u001b[0m\u001b[37m\u001b[0m \u001b[1m1s\u001b[0m 2ms/step - accuracy: 0.9307 - loss: 0.1846 - val_accuracy: 0.9275 - val_loss: 0.1674\n",
      "Epoch 33/64\n",
      "\u001b[1m450/450\u001b[0m \u001b[32m━━━━━━━━━━━━━━━━━━━━\u001b[0m\u001b[37m\u001b[0m \u001b[1m1s\u001b[0m 2ms/step - accuracy: 0.9345 - loss: 0.1694 - val_accuracy: 0.9300 - val_loss: 0.1706\n",
      "Epoch 34/64\n",
      "\u001b[1m450/450\u001b[0m \u001b[32m━━━━━━━━━━━━━━━━━━━━\u001b[0m\u001b[37m\u001b[0m \u001b[1m1s\u001b[0m 2ms/step - accuracy: 0.9392 - loss: 0.1661 - val_accuracy: 0.9250 - val_loss: 0.1819\n",
      "Epoch 35/64\n",
      "\u001b[1m450/450\u001b[0m \u001b[32m━━━━━━━━━━━━━━━━━━━━\u001b[0m\u001b[37m\u001b[0m \u001b[1m1s\u001b[0m 2ms/step - accuracy: 0.9352 - loss: 0.1767 - val_accuracy: 0.9375 - val_loss: 0.1572\n",
      "Epoch 36/64\n",
      "\u001b[1m450/450\u001b[0m \u001b[32m━━━━━━━━━━━━━━━━━━━━\u001b[0m\u001b[37m\u001b[0m \u001b[1m1s\u001b[0m 2ms/step - accuracy: 0.9338 - loss: 0.1681 - val_accuracy: 0.9350 - val_loss: 0.1587\n",
      "Epoch 37/64\n",
      "\u001b[1m450/450\u001b[0m \u001b[32m━━━━━━━━━━━━━━━━━━━━\u001b[0m\u001b[37m\u001b[0m \u001b[1m1s\u001b[0m 2ms/step - accuracy: 0.9272 - loss: 0.1752 - val_accuracy: 0.9350 - val_loss: 0.1574\n",
      "Epoch 38/64\n",
      "\u001b[1m450/450\u001b[0m \u001b[32m━━━━━━━━━━━━━━━━━━━━\u001b[0m\u001b[37m\u001b[0m \u001b[1m1s\u001b[0m 2ms/step - accuracy: 0.9285 - loss: 0.1896 - val_accuracy: 0.9450 - val_loss: 0.1555\n",
      "Epoch 39/64\n",
      "\u001b[1m450/450\u001b[0m \u001b[32m━━━━━━━━━━━━━━━━━━━━\u001b[0m\u001b[37m\u001b[0m \u001b[1m1s\u001b[0m 2ms/step - accuracy: 0.9318 - loss: 0.1760 - val_accuracy: 0.9050 - val_loss: 0.2614\n",
      "Epoch 40/64\n",
      "\u001b[1m450/450\u001b[0m \u001b[32m━━━━━━━━━━━━━━━━━━━━\u001b[0m\u001b[37m\u001b[0m \u001b[1m1s\u001b[0m 2ms/step - accuracy: 0.9263 - loss: 0.1686 - val_accuracy: 0.9375 - val_loss: 0.1602\n",
      "Epoch 41/64\n",
      "\u001b[1m450/450\u001b[0m \u001b[32m━━━━━━━━━━━━━━━━━━━━\u001b[0m\u001b[37m\u001b[0m \u001b[1m1s\u001b[0m 2ms/step - accuracy: 0.9408 - loss: 0.1641 - val_accuracy: 0.9425 - val_loss: 0.1552\n",
      "Epoch 42/64\n",
      "\u001b[1m450/450\u001b[0m \u001b[32m━━━━━━━━━━━━━━━━━━━━\u001b[0m\u001b[37m\u001b[0m \u001b[1m1s\u001b[0m 2ms/step - accuracy: 0.9359 - loss: 0.1695 - val_accuracy: 0.9400 - val_loss: 0.1633\n",
      "Epoch 43/64\n",
      "\u001b[1m450/450\u001b[0m \u001b[32m━━━━━━━━━━━━━━━━━━━━\u001b[0m\u001b[37m\u001b[0m \u001b[1m1s\u001b[0m 2ms/step - accuracy: 0.9326 - loss: 0.1669 - val_accuracy: 0.9350 - val_loss: 0.1583\n",
      "Epoch 44/64\n",
      "\u001b[1m450/450\u001b[0m \u001b[32m━━━━━━━━━━━━━━━━━━━━\u001b[0m\u001b[37m\u001b[0m \u001b[1m1s\u001b[0m 2ms/step - accuracy: 0.9355 - loss: 0.1602 - val_accuracy: 0.9350 - val_loss: 0.1605\n",
      "Epoch 45/64\n",
      "\u001b[1m450/450\u001b[0m \u001b[32m━━━━━━━━━━━━━━━━━━━━\u001b[0m\u001b[37m\u001b[0m \u001b[1m1s\u001b[0m 2ms/step - accuracy: 0.9336 - loss: 0.1686 - val_accuracy: 0.9425 - val_loss: 0.1547\n",
      "Epoch 46/64\n",
      "\u001b[1m450/450\u001b[0m \u001b[32m━━━━━━━━━━━━━━━━━━━━\u001b[0m\u001b[37m\u001b[0m \u001b[1m1s\u001b[0m 2ms/step - accuracy: 0.9350 - loss: 0.1703 - val_accuracy: 0.9400 - val_loss: 0.1604\n",
      "Epoch 47/64\n",
      "\u001b[1m450/450\u001b[0m \u001b[32m━━━━━━━━━━━━━━━━━━━━\u001b[0m\u001b[37m\u001b[0m \u001b[1m1s\u001b[0m 2ms/step - accuracy: 0.9414 - loss: 0.1517 - val_accuracy: 0.9350 - val_loss: 0.1771\n",
      "Epoch 48/64\n",
      "\u001b[1m450/450\u001b[0m \u001b[32m━━━━━━━━━━━━━━━━━━━━\u001b[0m\u001b[37m\u001b[0m \u001b[1m1s\u001b[0m 2ms/step - accuracy: 0.9322 - loss: 0.1662 - val_accuracy: 0.9400 - val_loss: 0.1612\n",
      "Epoch 49/64\n",
      "\u001b[1m450/450\u001b[0m \u001b[32m━━━━━━━━━━━━━━━━━━━━\u001b[0m\u001b[37m\u001b[0m \u001b[1m1s\u001b[0m 2ms/step - accuracy: 0.9307 - loss: 0.1737 - val_accuracy: 0.9325 - val_loss: 0.1704\n",
      "Epoch 50/64\n",
      "\u001b[1m450/450\u001b[0m \u001b[32m━━━━━━━━━━━━━━━━━━━━\u001b[0m\u001b[37m\u001b[0m \u001b[1m1s\u001b[0m 2ms/step - accuracy: 0.9317 - loss: 0.1584 - val_accuracy: 0.9325 - val_loss: 0.1639\n",
      "Epoch 51/64\n",
      "\u001b[1m450/450\u001b[0m \u001b[32m━━━━━━━━━━━━━━━━━━━━\u001b[0m\u001b[37m\u001b[0m \u001b[1m1s\u001b[0m 2ms/step - accuracy: 0.9271 - loss: 0.1760 - val_accuracy: 0.9375 - val_loss: 0.1679\n",
      "Epoch 52/64\n",
      "\u001b[1m450/450\u001b[0m \u001b[32m━━━━━━━━━━━━━━━━━━━━\u001b[0m\u001b[37m\u001b[0m \u001b[1m1s\u001b[0m 2ms/step - accuracy: 0.9377 - loss: 0.1635 - val_accuracy: 0.9300 - val_loss: 0.1774\n",
      "Epoch 53/64\n",
      "\u001b[1m450/450\u001b[0m \u001b[32m━━━━━━━━━━━━━━━━━━━━\u001b[0m\u001b[37m\u001b[0m \u001b[1m1s\u001b[0m 2ms/step - accuracy: 0.9370 - loss: 0.1595 - val_accuracy: 0.9225 - val_loss: 0.1807\n",
      "Epoch 54/64\n",
      "\u001b[1m450/450\u001b[0m \u001b[32m━━━━━━━━━━━━━━━━━━━━\u001b[0m\u001b[37m\u001b[0m \u001b[1m1s\u001b[0m 2ms/step - accuracy: 0.9262 - loss: 0.1841 - val_accuracy: 0.9250 - val_loss: 0.1900\n",
      "Epoch 55/64\n",
      "\u001b[1m450/450\u001b[0m \u001b[32m━━━━━━━━━━━━━━━━━━━━\u001b[0m\u001b[37m\u001b[0m \u001b[1m1s\u001b[0m 2ms/step - accuracy: 0.9351 - loss: 0.1749 - val_accuracy: 0.9375 - val_loss: 0.1615\n",
      "Epoch 56/64\n",
      "\u001b[1m450/450\u001b[0m \u001b[32m━━━━━━━━━━━━━━━━━━━━\u001b[0m\u001b[37m\u001b[0m \u001b[1m1s\u001b[0m 2ms/step - accuracy: 0.9407 - loss: 0.1534 - val_accuracy: 0.9250 - val_loss: 0.1832\n",
      "Epoch 57/64\n",
      "\u001b[1m450/450\u001b[0m \u001b[32m━━━━━━━━━━━━━━━━━━━━\u001b[0m\u001b[37m\u001b[0m \u001b[1m1s\u001b[0m 2ms/step - accuracy: 0.9326 - loss: 0.1722 - val_accuracy: 0.9225 - val_loss: 0.2064\n",
      "Epoch 58/64\n",
      "\u001b[1m450/450\u001b[0m \u001b[32m━━━━━━━━━━━━━━━━━━━━\u001b[0m\u001b[37m\u001b[0m \u001b[1m1s\u001b[0m 2ms/step - accuracy: 0.9316 - loss: 0.1740 - val_accuracy: 0.9400 - val_loss: 0.1586\n",
      "Epoch 59/64\n",
      "\u001b[1m450/450\u001b[0m \u001b[32m━━━━━━━━━━━━━━━━━━━━\u001b[0m\u001b[37m\u001b[0m \u001b[1m1s\u001b[0m 2ms/step - accuracy: 0.9354 - loss: 0.1688 - val_accuracy: 0.9375 - val_loss: 0.1533\n",
      "Epoch 60/64\n",
      "\u001b[1m450/450\u001b[0m \u001b[32m━━━━━━━━━━━━━━━━━━━━\u001b[0m\u001b[37m\u001b[0m \u001b[1m1s\u001b[0m 2ms/step - accuracy: 0.9440 - loss: 0.1499 - val_accuracy: 0.9300 - val_loss: 0.1768\n",
      "Epoch 61/64\n",
      "\u001b[1m450/450\u001b[0m \u001b[32m━━━━━━━━━━━━━━━━━━━━\u001b[0m\u001b[37m\u001b[0m \u001b[1m1s\u001b[0m 2ms/step - accuracy: 0.9304 - loss: 0.1623 - val_accuracy: 0.9300 - val_loss: 0.1804\n",
      "Epoch 62/64\n",
      "\u001b[1m450/450\u001b[0m \u001b[32m━━━━━━━━━━━━━━━━━━━━\u001b[0m\u001b[37m\u001b[0m \u001b[1m1s\u001b[0m 2ms/step - accuracy: 0.9394 - loss: 0.1622 - val_accuracy: 0.9275 - val_loss: 0.1726\n",
      "Epoch 63/64\n",
      "\u001b[1m450/450\u001b[0m \u001b[32m━━━━━━━━━━━━━━━━━━━━\u001b[0m\u001b[37m\u001b[0m \u001b[1m1s\u001b[0m 2ms/step - accuracy: 0.9464 - loss: 0.1505 - val_accuracy: 0.9325 - val_loss: 0.1640\n",
      "Epoch 64/64\n",
      "\u001b[1m450/450\u001b[0m \u001b[32m━━━━━━━━━━━━━━━━━━━━\u001b[0m\u001b[37m\u001b[0m \u001b[1m1s\u001b[0m 2ms/step - accuracy: 0.9378 - loss: 0.1502 - val_accuracy: 0.9200 - val_loss: 0.1913\n"
     ]
    }
   ],
   "source": [
    "history_deep = model_deep.fit(\n",
    "    train_X, train_y, \n",
    "    validation_split=0.1, epochs=64, batch_size=8\n",
    ")"
   ]
  },
  {
   "cell_type": "code",
   "execution_count": 22,
   "metadata": {},
   "outputs": [
    {
     "data": {
      "text/plain": [
       "<Axes: >"
      ]
     },
     "execution_count": 22,
     "metadata": {},
     "output_type": "execute_result"
    },
    {
     "data": {
      "image/png": "[encoded data removed]",
      "text/plain": [
       "<Figure size 640x480 with 1 Axes>"
      ]
     },
     "metadata": {},
     "output_type": "display_data"
    }
   ],
   "source": [
    "sns.lineplot(x=range(len(history_shallow.history['loss'])), y=history_shallow.history['loss'], label='loss')\n",
    "sns.lineplot(x=range(len(history_shallow.history['val_loss'])), y=history_shallow.history['val_loss'], label='val_loss')\n"
   ]
  },
  {
   "cell_type": "code",
   "execution_count": 23,
   "metadata": {},
   "outputs": [
    {
     "data": {
      "text/plain": [
       "<Axes: >"
      ]
     },
     "execution_count": 23,
     "metadata": {},
     "output_type": "execute_result"
    },
    {
     "data": {
      "image/png": "[encoded data removed]",
      "text/plain": [
       "<Figure size 640x480 with 1 Axes>"
      ]
     },
     "metadata": {},
     "output_type": "display_data"
    }
   ],
   "source": [
    "sns.lineplot(x=range(len(history_medium.history['loss'])), y=history_medium.history['loss'], label='loss')\n",
    "sns.lineplot(x=range(len(history_medium.history['val_loss'])), y=history_medium.history['val_loss'], label='val_loss')\n"
   ]
  },
  {
   "cell_type": "code",
   "execution_count": 24,
   "metadata": {},
   "outputs": [
    {
     "data": {
      "text/plain": [
       "<Axes: >"
      ]
     },
     "execution_count": 24,
     "metadata": {},
     "output_type": "execute_result"
    },
    {
     "data": {
      "image/png": "[encoded data removed]",
      "text/plain": [
       "<Figure size 640x480 with 1 Axes>"
      ]
     },
     "metadata": {},
     "output_type": "display_data"
    }
   ],
   "source": [
    "sns.lineplot(x=range(len(history_deep.history['loss'])), y=history_deep.history['loss'], label='loss')\n",
    "sns.lineplot(x=range(len(history_deep.history['val_loss'])), y=history_deep.history['val_loss'], label='val_loss')"
   ]
  },
  {
   "cell_type": "code",
   "execution_count": 25,
   "metadata": {},
   "outputs": [
    {
     "name": "stdout",
     "output_type": "stream",
     "text": [
      "\u001b[1m32/32\u001b[0m \u001b[32m━━━━━━━━━━━━━━━━━━━━\u001b[0m\u001b[37m\u001b[0m \u001b[1m0s\u001b[0m 2ms/step\n"
     ]
    }
   ],
   "source": [
    "pred_y = model_shallow.predict(test_X).round()"
   ]
  },
  {
   "cell_type": "code",
   "execution_count": 26,
   "metadata": {},
   "outputs": [
    {
     "name": "stdout",
     "output_type": "stream",
     "text": [
      "              precision    recall  f1-score   support\n",
      "\n",
      "           0       1.00      1.00      1.00       409\n",
      "           1       0.90      0.84      0.87       111\n",
      "           2       0.96      0.94      0.95       294\n",
      "           3       0.82      0.89      0.85       186\n",
      "\n",
      "   micro avg       0.94      0.94      0.94      1000\n",
      "   macro avg       0.92      0.92      0.92      1000\n",
      "weighted avg       0.94      0.94      0.94      1000\n",
      " samples avg       0.94      0.94      0.94      1000\n",
      "\n"
     ]
    }
   ],
   "source": [
    "print(classification_report(test_y, pred_y))"
   ]
  },
  {
   "cell_type": "code",
   "execution_count": 31,
   "metadata": {},
   "outputs": [
    {
     "name": "stdout",
     "output_type": "stream",
     "text": [
      "\u001b[1m32/32\u001b[0m \u001b[32m━━━━━━━━━━━━━━━━━━━━\u001b[0m\u001b[37m\u001b[0m \u001b[1m0s\u001b[0m 2ms/step \n",
      "              precision    recall  f1-score   support\n",
      "\n",
      "           0       1.00      1.00      1.00       409\n",
      "           1       0.90      0.83      0.86       111\n",
      "           2       0.95      0.95      0.95       294\n",
      "           3       0.84      0.88      0.86       186\n",
      "\n",
      "   micro avg       0.94      0.94      0.94      1000\n",
      "   macro avg       0.92      0.91      0.92      1000\n",
      "weighted avg       0.94      0.94      0.94      1000\n",
      " samples avg       0.94      0.94      0.94      1000\n",
      "\n"
     ]
    }
   ],
   "source": [
    "pred_y_medium = model_medium.predict(test_X).round()\n",
    "print(classification_report(test_y, pred_y_medium, zero_division=1))"
   ]
  },
  {
   "cell_type": "code",
   "execution_count": 32,
   "metadata": {},
   "outputs": [
    {
     "name": "stdout",
     "output_type": "stream",
     "text": [
      "\u001b[1m32/32\u001b[0m \u001b[32m━━━━━━━━━━━━━━━━━━━━\u001b[0m\u001b[37m\u001b[0m \u001b[1m0s\u001b[0m 2ms/step \n",
      "              precision    recall  f1-score   support\n",
      "\n",
      "           0       1.00      1.00      1.00       409\n",
      "           1       0.95      0.77      0.85       111\n",
      "           2       0.92      0.98      0.95       294\n",
      "           3       0.84      0.84      0.84       186\n",
      "\n",
      "   micro avg       0.94      0.94      0.94      1000\n",
      "   macro avg       0.93      0.90      0.91      1000\n",
      "weighted avg       0.94      0.94      0.94      1000\n",
      " samples avg       0.94      0.94      0.94      1000\n",
      "\n"
     ]
    }
   ],
   "source": [
    "pred_y_deep = model_deep.predict(test_X).round()\n",
    "print(classification_report(test_y, pred_y_deep))"
   ]
  },
  {
   "cell_type": "code",
   "execution_count": null,
   "metadata": {},
   "outputs": [],
   "source": []
  }
 ],
 "metadata": {
  "colab": {
   "provenance": []
  },
  "kernelspec": {
   "display_name": "Python 3 (ipykernel)",
   "language": "python",
   "name": "python3"
  },
  "language_info": {
   "codemirror_mode": {
    "name": "ipython",
    "version": 3
   },
   "file_extension": ".py",
   "mimetype": "text/x-python",
   "name": "python",
   "nbconvert_exporter": "python",
   "pygments_lexer": "ipython3",
   "version": "3.12.0"
  }
 },
 "nbformat": 4,
 "nbformat_minor": 4
}
